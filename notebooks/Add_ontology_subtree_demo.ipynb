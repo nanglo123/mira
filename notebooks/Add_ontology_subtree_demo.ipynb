{
 "cells": [
  {
   "cell_type": "markdown",
   "id": "ef5b3af7-d485-4bd0-b189-8479895528c7",
   "metadata": {},
   "source": [
    "## Demostration of the ```add_ontology_subtree``` endpoint\n",
    "\n",
    "We demonstrate the ability to add any ontology term to the MIRA DKG given its curie. We also provide the option to add all taxonomy terms in the subtree of the specified taxonomy term to add. Currently we only support the addition of **ncbitaxonomy** terms. This demonstration will make use of the white-tailed deer ncbitaxonomy term: https://www.ncbi.nlm.nih.gov/Taxonomy/Browser/wwwtax.cgi?mode=Info&id=9874&lvl=3&lin=f&keep=1&srchmode=1&unlock."
   ]
  },
  {
   "cell_type": "code",
   "execution_count": 1,
   "id": "7658e870-7018-4bb9-a93d-375cceccf221",
   "metadata": {},
   "outputs": [],
   "source": [
    "import requests"
   ]
  },
  {
   "cell_type": "markdown",
   "id": "b00a331d-6983-47a7-a408-ed8bdbcf5528",
   "metadata": {},
   "source": [
    "## Define the ncbitaxonomy curie to add.\n",
    "We first only add term itself and no terms under its subtree to the DKG."
   ]
  },
  {
   "cell_type": "code",
   "execution_count": 4,
   "id": "4f772600-8e3a-43bc-a3eb-47314e5cf6b7",
   "metadata": {},
   "outputs": [],
   "source": [
    "# The ncbitaxonomy term with identifier 9874 corresponds to \"Odocoileus Virginianus\" which represents white-tailed deer. \n",
    "curie = 'ncbitaxon:9874'\n",
    "add_subtree = False\n",
    "params = {\"curie\": curie, \"add_subtree\": False}"
   ]
  },
  {
   "cell_type": "code",
   "execution_count": 5,
   "id": "18c57e07-eb4a-4993-85c4-e63509a38987",
   "metadata": {},
   "outputs": [
    {
     "data": {
      "text/plain": [
       "404"
      ]
     },
     "execution_count": 5,
     "metadata": {},
     "output_type": "execute_result"
    }
   ],
   "source": [
    "response = requests.post(\"http://mira-epi-dkg-lb-dc1e19b273dedaa2.elb.us-east-1.amazonaws.com/api/add_ontology_subtree\", params=params)\n",
    "response.status_code"
   ]
  },
  {
   "cell_type": "markdown",
   "id": "632f5946-c689-4b95-94a8-232bdf72cfbb",
   "metadata": {},
   "source": [
    "## Search for the added node in the DKG\n",
    "\n",
    "We then use the ```search``` endpoint to look for the newly added node that represents white-tailed deer. Looking at the ontological structure of the white-tailed deer term: https://www.ncbi.nlm.nih.gov/Taxonomy/Browser/wwwtax.cgi?mode=Tree&id=9874&lvl=3&lin=f&keep=1&srchmode=1&unlock, we see that there exists a child term in the subtree for white-tailed deer with curie ```ncbitaxon:9875``` that corresponds to Virginia white-tailed deer. We also search for Virginia white-tailed deer to showcase that no subtree terms have been added."
   ]
  },
  {
   "cell_type": "code",
   "execution_count": 4,
   "id": "247695f2-64e6-4de3-95e7-9c81c3f9a052",
   "metadata": {},
   "outputs": [
    {
     "name": "stdout",
     "output_type": "stream",
     "text": [
      "white-tailed deer\n",
      "\n"
     ]
    },
    {
     "data": {
      "text/plain": [
       "[{'id': 'ncbitaxon:9874',\n",
       "  'name': 'Odocoileus virginianus',\n",
       "  'type': 'class',\n",
       "  'obsolete': False,\n",
       "  'synonyms': [{'value': 'white-tailed deer', 'type': ''}],\n",
       "  'xrefs': [{'id': 'gc_id:1', 'type': ''}],\n",
       "  'labels': [],\n",
       "  'properties': {'has_rank': ['NCBITaxon:species']}}]"
      ]
     },
     "execution_count": 4,
     "metadata": {},
     "output_type": "execute_result"
    }
   ],
   "source": [
    "search_params = {\n",
    "    \"q\": \"white-tailed deer\",\n",
    "    \"limit\": 1,\n",
    "    \"offset\": 0,\n",
    "    \"prefixes\": \"ncbitaxon\",\n",
    "    \"wikidata_fallback\": False\n",
    "}\n",
    "response = requests.get(\"http://mira-epi-dkg-lb-dc1e19b273dedaa2.elb.us-east-1.amazonaws.com/api/search\", params=search_params)\n",
    "print(response.json()[0][\"synonyms\"][0][\"value\"])\n",
    "print()\n",
    "response.json()"
   ]
  },
  {
   "cell_type": "code",
   "execution_count": 6,
   "id": "76ad40ec-188b-4c2f-a5ee-c9f816cb67b3",
   "metadata": {},
   "outputs": [
    {
     "name": "stdout",
     "output_type": "stream",
     "text": [
      "[]\n"
     ]
    }
   ],
   "source": [
    "search_params = {\n",
    "    \"q\": \"Virginia white-tailed deer\",\n",
    "    \"limit\": 1,\n",
    "    \"offset\": 0,\n",
    "    \"prefixes\": \"ncbitaxon\",\n",
    "    \"wikidata_fallback\": False\n",
    "}\n",
    "response = requests.get(\"http://mira-epi-dkg-lb-dc1e19b273dedaa2.elb.us-east-1.amazonaws.com/api/search\", params=search_params)\n",
    "print(response.json())"
   ]
  },
  {
   "cell_type": "markdown",
   "id": "8aede484-2e9d-4955-ac5d-ab6149b14edc",
   "metadata": {},
   "source": [
    "## Add the ontology subtree full of terms under the specified term\n",
    "\n",
    "We use the same exact curie representing white-tailed deer and endpoint with the only difference being that we set the ```add_subtree``` flag to True."
   ]
  },
  {
   "cell_type": "code",
   "execution_count": 10,
   "id": "f816fed8-a07b-410f-b1d5-1dc6976f64e0",
   "metadata": {},
   "outputs": [
    {
     "data": {
      "text/plain": [
       "200"
      ]
     },
     "execution_count": 10,
     "metadata": {},
     "output_type": "execute_result"
    }
   ],
   "source": [
    "params = {\"curie\": curie, \"add_subtree\": True}\n",
    "response = requests.post(\"http://mira-epi-dkg-lb-dc1e19b273dedaa2.elb.us-east-1.amazonaws.com/api/add_ontology_subtree\", params=params)\n",
    "response.status_code"
   ]
  },
  {
   "cell_type": "markdown",
   "id": "2c258d50-9c5e-487e-bacd-053ca65f033a",
   "metadata": {},
   "source": [
    "## Relationship info has been added\n",
    "\n",
    "Using the ```search``` endpoint for Virginia white-tailed deer now returns results"
   ]
  },
  {
   "cell_type": "code",
   "execution_count": 12,
   "id": "ca6a8c94-2814-419b-8cf0-0e938b9b3e26",
   "metadata": {},
   "outputs": [
    {
     "name": "stdout",
     "output_type": "stream",
     "text": [
      "Virginia white-tailed deer\n",
      "\n"
     ]
    },
    {
     "data": {
      "text/plain": [
       "[{'id': 'ncbitaxon:9875',\n",
       "  'name': 'Odocoileus virginianus virginianus',\n",
       "  'type': 'class',\n",
       "  'obsolete': False,\n",
       "  'synonyms': [{'value': 'Virginia white-tailed deer', 'type': ''}],\n",
       "  'xrefs': [{'id': 'gc_id:1', 'type': ''}],\n",
       "  'labels': [],\n",
       "  'properties': {'has_rank': ['NCBITaxon:subspecies']}}]"
      ]
     },
     "execution_count": 12,
     "metadata": {},
     "output_type": "execute_result"
    }
   ],
   "source": [
    "search_params = {\n",
    "    \"q\": \"Virginia white-tailed deer\",\n",
    "    \"limit\": 1,\n",
    "    \"offset\": 0,\n",
    "    \"prefixes\": \"ncbitaxon\",\n",
    "    \"wikidata_fallback\": False\n",
    "}\n",
    "response = requests.get(\"http://mira-epi-dkg-lb-dc1e19b273dedaa2.elb.us-east-1.amazonaws.com/api/search\", params=search_params)\n",
    "print(response.json()[0][\"synonyms\"][0][\"value\"])\n",
    "print()\n",
    "response.json()"
   ]
  },
  {
   "cell_type": "markdown",
   "id": "a0566fb6-e1b4-4b00-8b1b-b682b8ad60e7",
   "metadata": {},
   "source": [
    "## Show the relation between white-tailed deer and Virginia white-tailed deer\n",
    "\n",
    "We then use the ```relations``` endpoint to query for the ```subclass_of``` relation between source node ```ncbitaxon:9875``` and target node ```ncbitaxon:9874```.\n"
   ]
  },
  {
   "cell_type": "code",
   "execution_count": 16,
   "id": "bb1c69f4-c028-4e2f-9d87-f5da8dfa6803",
   "metadata": {},
   "outputs": [
    {
     "data": {
      "text/plain": [
       "[{'subject': 'ncbitaxon:9875',\n",
       "  'predicate': 'rdfs:subClassOf',\n",
       "  'object': 'ncbitaxon:9874'}]"
      ]
     },
     "execution_count": 16,
     "metadata": {},
     "output_type": "execute_result"
    }
   ],
   "source": [
    "relations_json = {\n",
    "  \"source_curie\": \"ncbitaxon:9875\",\n",
    "  \"target_curie\": \"ncbitaxon:9874\",\n",
    "  \"relations\": \"subclass_of\"\n",
    "}\n",
    "\n",
    "response = requests.post(\"http://mira-epi-dkg-lb-dc1e19b273dedaa2.elb.us-east-1.amazonaws.com/api/relations\", json=relations_json)\n",
    "response.json()"
   ]
  }
 ],
 "metadata": {
  "kernelspec": {
   "display_name": "Python 3 (ipykernel)",
   "language": "python",
   "name": "python3"
  },
  "language_info": {
   "codemirror_mode": {
    "name": "ipython",
    "version": 3
   },
   "file_extension": ".py",
   "mimetype": "text/x-python",
   "name": "python",
   "nbconvert_exporter": "python",
   "pygments_lexer": "ipython3",
   "version": "3.10.12"
  }
 },
 "nbformat": 4,
 "nbformat_minor": 5
}
