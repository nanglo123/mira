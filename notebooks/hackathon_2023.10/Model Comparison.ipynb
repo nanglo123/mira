{
 "cells": [
  {
   "cell_type": "markdown",
   "id": "8ca68279-4097-4dc7-ab8c-91947663eb26",
   "metadata": {},
   "source": [
    "## Load up the environment variable needed for module imports"
   ]
  },
  {
   "cell_type": "code",
   "execution_count": 28,
   "id": "0d94ee13-ab8e-4709-9a13-772e27bf85d3",
   "metadata": {},
   "outputs": [
    {
     "name": "stdout",
     "output_type": "stream",
     "text": [
      "env: MIRA_REST_URL=http://34.230.33.149:8771\n"
     ]
    }
   ],
   "source": [
    "%env MIRA_REST_URL=http://34.230.33.149:8771"
   ]
  },
  {
   "cell_type": "markdown",
   "id": "66d4c677-9450-4074-8160-b250d791c127",
   "metadata": {},
   "source": [
    "## Import modules"
   ]
  },
  {
   "cell_type": "code",
   "execution_count": 29,
   "id": "f8dbb0dc-44b3-414a-be6d-9b6b3b82381e",
   "metadata": {},
   "outputs": [],
   "source": [
    "from mira.sources import biomodels\n",
    "from mira.metamodel.comparison import *\n",
    "from mira.metamodel.template_model import *\n",
    "from mira.metamodel.templates import *\n",
    "from mira.sources import biomodels\n",
    "\n",
    "from itertools import combinations\n",
    "from copy import deepcopy"
   ]
  },
  {
   "cell_type": "markdown",
   "id": "0aadd1b5-f099-45e7-9e88-a147844c8de9",
   "metadata": {},
   "source": [
    "## Define the Covid epi models to be compared and add them to a list "
   ]
  },
  {
   "cell_type": "code",
   "execution_count": null,
   "id": "bcf47a4b-090c-4c1f-b564-3bd8d9bfd290",
   "metadata": {},
   "outputs": [],
   "source": [
    "COVID_MODEL_SET = {\"BIOMD0000000955\", \"BIOMD0000000956\", \"BIOMD0000000957\",\"BIOMD0000000958\",\"BIOMD0000000960\",\"BIOMD0000000962\"}\n",
    "rc = get_dkg_refinement_closure()\n",
    "\n",
    "tm_covid_grounding_list = []\n",
    "for covid_model in COVID_MODEL_SET:\n",
    "    tm_covid_grounding_list.append(biomodels.get_template_model(covid_model))"
   ]
  },
  {
   "cell_type": "markdown",
   "id": "48aab7a4-998d-461b-bc05-cd951557bb7c",
   "metadata": {},
   "source": [
    "## Compute pairwise similarity scores between each grounded model"
   ]
  },
  {
   "cell_type": "code",
   "execution_count": null,
   "id": "87b357ac-db72-4c62-9ce8-d9d208bd7d76",
   "metadata": {},
   "outputs": [],
   "source": [
    "tm_covid_comparison = TemplateModelComparison(tm_covid_grounding_list,refinement_func=rc.is_ontological_child)\n",
    "tm_covid_comparison.model_comparison.get_similarity_scores()"
   ]
  },
  {
   "cell_type": "markdown",
   "id": "11bc51ac-337c-41ab-a5bb-4512fb6aa3c0",
   "metadata": {},
   "source": [
    "## Create image comparing selected grounded models"
   ]
  },
  {
   "cell_type": "code",
   "execution_count": null,
   "id": "c6c27191-6089-4c4c-aee0-378dff952537",
   "metadata": {},
   "outputs": [],
   "source": [
    "TemplateModelDelta.for_jupyter(tm_covid_comparison.template_models[2],tm_covid_comparison.template_models[5],\n",
    "                                               rc.is_ontological_child,name=f\"model_{2}{5}_grounding.png\",\n",
    "                                                  args=\"-Grankdir=TB\")"
   ]
  },
  {
   "cell_type": "markdown",
   "id": "a06764fe-cc15-447b-8ff8-7395a58ee737",
   "metadata": {},
   "source": [
    "## Create a list of covid models without grounding "
   ]
  },
  {
   "cell_type": "code",
   "execution_count": null,
   "id": "18a52915-eb78-4762-bc6b-9be649b09ecf",
   "metadata": {},
   "outputs": [],
   "source": [
    "tm_covid_no_grounding_list = [] \n",
    "for tm in tm_covid_grounding_list:\n",
    "    copied_tm = deepcopy(tm)\n",
    "    for template in copied_tm.templates:\n",
    "        for concept in template.get_concepts():\n",
    "            concept.identifiers = {}\n",
    "            concept.context = {}\n",
    "    tm_covid_no_grounding_list.append(copied_tm)"
   ]
  },
  {
   "cell_type": "markdown",
   "id": "5e0019a0-2ac3-4eb5-b8c1-f44457ff5826",
   "metadata": {},
   "source": [
    "## Compute pairwise similarity scores between each ungrounded model"
   ]
  },
  {
   "cell_type": "code",
   "execution_count": null,
   "id": "79475119-ca7c-460c-9477-41477a65597a",
   "metadata": {},
   "outputs": [],
   "source": [
    "tm_covid_comparison_copy = TemplateModelComparison(tm_covid_no_grounding_list,refinement_func=rc.is_ontological_child)\n",
    "tm_covid_comparison_copy.model_comparison.get_similarity_scores()"
   ]
  },
  {
   "cell_type": "markdown",
   "id": "c1bafd46-f1d6-4fa5-a3da-ed7348b53b45",
   "metadata": {},
   "source": [
    "## Create image comparing selected ungrounded models"
   ]
  },
  {
   "cell_type": "code",
   "execution_count": null,
   "id": "6713a2a3-0413-4045-a07c-8f8c847b2bd1",
   "metadata": {},
   "outputs": [],
   "source": [
    "TemplateModelDelta.for_jupyter(tm_covid_comparison_copy.template_models[2],tm_covid_comparison_copy.template_models[5],\n",
    "                                               rc.is_ontological_child,name=f\"model_{2}{5}_no_grounding.png\",\n",
    "                                args=\"-Grankdir=TB\")"
   ]
  },
  {
   "cell_type": "markdown",
   "id": "647baec8-4e43-4a15-a986-54cf1838f75b",
   "metadata": {},
   "source": [
    "## Reasoning on difference between grounded and ungrounded models"
   ]
  },
  {
   "cell_type": "markdown",
   "id": "34d44fe2-8157-4d20-90ad-9221ab093711",
   "metadata": {},
   "source": [
    "The similarity score for models 2 and 5 when grounded is 0.75. The similarity score for the models when ungrounded is 0.25. The reasoning for this is because the refinements dissapear and the confirmed concept node is no longer the same between the two models."
   ]
  }
 ],
 "metadata": {
  "kernelspec": {
   "display_name": "Python 3 (ipykernel)",
   "language": "python",
   "name": "python3"
  },
  "language_info": {
   "codemirror_mode": {
    "name": "ipython",
    "version": 3
   },
   "file_extension": ".py",
   "mimetype": "text/x-python",
   "name": "python",
   "nbconvert_exporter": "python",
   "pygments_lexer": "ipython3",
   "version": "3.10.12"
  }
 },
 "nbformat": 4,
 "nbformat_minor": 5
}
