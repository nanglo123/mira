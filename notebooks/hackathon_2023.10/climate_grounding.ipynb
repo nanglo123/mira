{
 "cells": [
  {
   "cell_type": "markdown",
   "id": "b82068fe",
   "metadata": {},
   "source": [
    "# Climate DKG and variable annotations"
   ]
  },
  {
   "cell_type": "code",
   "execution_count": 9,
   "id": "2f6d9af6",
   "metadata": {},
   "outputs": [],
   "source": [
    "import requests\n",
    "import pandas \n",
    "from mira.sources.acsets.decapodes import process_decapode\n",
    "from mira.dkg.askemo import get_askem_climate_ontology_terms\n",
    "from mira.dkg.physical_constants import get_physical_constant_terms"
   ]
  },
  {
   "cell_type": "markdown",
   "id": "c84f6d2f",
   "metadata": {},
   "source": [
    "### Extract synonym mappings for the Halfar model"
   ]
  },
  {
   "cell_type": "code",
   "execution_count": 16,
   "id": "da872406",
   "metadata": {},
   "outputs": [
    {
     "name": "stdout",
     "output_type": "stream",
     "text": [
      "askem.climate:0000102 gravitational constant [Synonym(value='g', type='referenced_by_symbol')]\n",
      "askem.climate:0002005 flow law of ice []\n",
      "askem.climate:0002006 Glen's law []\n",
      "askem.climate:0003012 density [Synonym(value='ρ', type='referenced_by_symbol')]\n",
      "askem.climate:0003018 Ice height [Synonym(value='h', type='referenced_by_symbol')]\n",
      "askem.climate:0003019 Strain rate [Synonym(value='Γ', type='referenced_by_symbol')]\n",
      "askem.climate:0003020 Glen flow law exponent [Synonym(value='n', type='referenced_by_symbol')]\n",
      "askem.climate:0003021 Power law constant [Synonym(value='A', type='referenced_by_symbol')]\n"
     ]
    }
   ],
   "source": [
    "synonym_mappings = {}\n",
    "\n",
    "for wd, name, description, synonyms, xrefs, _value, _formula, symbols in get_physical_constant_terms():\n",
    "    curie = f\"wikidata:{wd}\"\n",
    "    synonym_mappings[name] = curie\n",
    "    for synoynm in synonyms or []:\n",
    "        synonym_mappings[synoynm] = (curie, name)\n",
    "    for symbol in symbols or []:\n",
    "        synonym_mappings[symbol] = (curie, name)\n",
    "\n",
    "for curie, term in get_askem_climate_ontology_terms().items():\n",
    "    if \"askem.climate:0001002\" in term.part_ofs:\n",
    "        print(curie, term.name, term.synonyms)\n",
    "        for syn in term.synonyms:\n",
    "            if syn.type == 'referenced_by_symbol':\n",
    "                synonym_mappings[syn.value] = (term.id, term.name)"
   ]
  },
  {
   "cell_type": "markdown",
   "id": "06aeed45",
   "metadata": {},
   "source": [
    "### Create a Decapodes object from the Halfar model JSON"
   ]
  },
  {
   "cell_type": "code",
   "execution_count": 17,
   "id": "c77287ab",
   "metadata": {},
   "outputs": [],
   "source": [
    "model_url = 'https://raw.githubusercontent.com/ciemss/Decapodes.jl/sa_climate_modeling/examples/climate/ice_dynamics.json'\n",
    "model_json = requests.get(model_url).json()\n",
    "model_decapode = process_decapode(model_json)"
   ]
  },
  {
   "cell_type": "markdown",
   "id": "6dcf6f9e",
   "metadata": {},
   "source": [
    "### Look up groundings for model variables and show the ones that exist"
   ]
  },
  {
   "cell_type": "code",
   "execution_count": 18,
   "id": "84e76a23",
   "metadata": {},
   "outputs": [
    {
     "name": "stdout",
     "output_type": "stream",
     "text": [
      "h {'askem.climate': '0003018'} Ice height\n",
      "Γ {'askem.climate': '0003019'} Strain rate\n",
      "n {'askem.climate': '0003020'} Glen flow law exponent\n"
     ]
    }
   ],
   "source": [
    "for var in model_decapode.variables.values():\n",
    "    if var.name in synonym_mappings:\n",
    "        curie, name = synonym_mappings[var.name]\n",
    "        prefix, identifier = curie.split(':', 1)\n",
    "        var.identifiers = {prefix: identifier}\n",
    "        print(var.name, var.identifiers, name)"
   ]
  },
  {
   "cell_type": "markdown",
   "id": "45b602c4",
   "metadata": {},
   "source": [
    "### General physical constants in the DKG"
   ]
  },
  {
   "cell_type": "code",
   "execution_count": 42,
   "id": "3640fa5a",
   "metadata": {},
   "outputs": [],
   "source": [
    "physical_constants = {}\n",
    "for wd, name, description, synonyms, xrefs, _value, _formula, symbols in get_physical_constant_terms():\n",
    "    curie = f\"wikidata:{wd}\"\n",
    "    physical_constants[name] = \\\n",
    "        {\n",
    "            'curie': curie,\n",
    "            'description': description,\n",
    "            'synonyms': ', '.join(synonyms),\n",
    "            'xrefs': ', '.join(xrefs),\n",
    "            'value': _value,\n",
    "            'symbols': ', '.join(symbols)\n",
    "        }"
   ]
  },
  {
   "cell_type": "code",
   "execution_count": 56,
   "id": "6ea33ae4",
   "metadata": {},
   "outputs": [],
   "source": [
    "pandas.set_option('display.max_colwidth', None)\n",
    "def get_df(constant_name):\n",
    "    return pandas.DataFrame({k: [v] for k, v in physical_constants[constant_name].items()}).T"
   ]
  },
  {
   "cell_type": "code",
   "execution_count": 57,
   "id": "b7cf6ade",
   "metadata": {},
   "outputs": [
    {
     "data": {
      "text/html": [
       "<div>\n",
       "<style scoped>\n",
       "    .dataframe tbody tr th:only-of-type {\n",
       "        vertical-align: middle;\n",
       "    }\n",
       "\n",
       "    .dataframe tbody tr th {\n",
       "        vertical-align: top;\n",
       "    }\n",
       "\n",
       "    .dataframe thead th {\n",
       "        text-align: right;\n",
       "    }\n",
       "</style>\n",
       "<table border=\"1\" class=\"dataframe\">\n",
       "  <thead>\n",
       "    <tr style=\"text-align: right;\">\n",
       "      <th></th>\n",
       "      <th>0</th>\n",
       "    </tr>\n",
       "  </thead>\n",
       "  <tbody>\n",
       "    <tr>\n",
       "      <th>curie</th>\n",
       "      <td>wikidata:Q122894</td>\n",
       "    </tr>\n",
       "    <tr>\n",
       "      <th>description</th>\n",
       "      <td>physical constant representing the quantum of action</td>\n",
       "    </tr>\n",
       "    <tr>\n",
       "      <th>synonyms</th>\n",
       "      <td>h, 𝒉, Planck's constant</td>\n",
       "    </tr>\n",
       "    <tr>\n",
       "      <th>xrefs</th>\n",
       "      <td>goldbook:P04685, nist.codata:h</td>\n",
       "    </tr>\n",
       "    <tr>\n",
       "      <th>value</th>\n",
       "      <td>0.000000000000000000000000000000000662607015</td>\n",
       "    </tr>\n",
       "    <tr>\n",
       "      <th>symbols</th>\n",
       "      <td>h</td>\n",
       "    </tr>\n",
       "  </tbody>\n",
       "</table>\n",
       "</div>"
      ],
      "text/plain": [
       "                                                                0\n",
       "curie                                            wikidata:Q122894\n",
       "description  physical constant representing the quantum of action\n",
       "synonyms                                  h, 𝒉, Planck's constant\n",
       "xrefs                              goldbook:P04685, nist.codata:h\n",
       "value                0.000000000000000000000000000000000662607015\n",
       "symbols                                                         h"
      ]
     },
     "execution_count": 57,
     "metadata": {},
     "output_type": "execute_result"
    }
   ],
   "source": [
    "get_df('Planck constant')"
   ]
  },
  {
   "cell_type": "code",
   "execution_count": 58,
   "id": "ebbce7be",
   "metadata": {},
   "outputs": [
    {
     "data": {
      "text/html": [
       "<div>\n",
       "<style scoped>\n",
       "    .dataframe tbody tr th:only-of-type {\n",
       "        vertical-align: middle;\n",
       "    }\n",
       "\n",
       "    .dataframe tbody tr th {\n",
       "        vertical-align: top;\n",
       "    }\n",
       "\n",
       "    .dataframe thead th {\n",
       "        text-align: right;\n",
       "    }\n",
       "</style>\n",
       "<table border=\"1\" class=\"dataframe\">\n",
       "  <thead>\n",
       "    <tr style=\"text-align: right;\">\n",
       "      <th></th>\n",
       "      <th>0</th>\n",
       "    </tr>\n",
       "  </thead>\n",
       "  <tbody>\n",
       "    <tr>\n",
       "      <th>curie</th>\n",
       "      <td>wikidata:Q3814108</td>\n",
       "    </tr>\n",
       "    <tr>\n",
       "      <th>description</th>\n",
       "      <td>mass of a stationary electron</td>\n",
       "    </tr>\n",
       "    <tr>\n",
       "      <th>synonyms</th>\n",
       "      <td>electron rest mass</td>\n",
       "    </tr>\n",
       "    <tr>\n",
       "      <th>xrefs</th>\n",
       "      <td>goldbook:E02008, nist.codata:me</td>\n",
       "    </tr>\n",
       "    <tr>\n",
       "      <th>value</th>\n",
       "      <td>0.00000000000000000000000000000091093837015</td>\n",
       "    </tr>\n",
       "    <tr>\n",
       "      <th>symbols</th>\n",
       "      <td>m_{\\mathrm {e} }</td>\n",
       "    </tr>\n",
       "  </tbody>\n",
       "</table>\n",
       "</div>"
      ],
      "text/plain": [
       "                                                       0\n",
       "curie                                  wikidata:Q3814108\n",
       "description                mass of a stationary electron\n",
       "synonyms                              electron rest mass\n",
       "xrefs                    goldbook:E02008, nist.codata:me\n",
       "value        0.00000000000000000000000000000091093837015\n",
       "symbols                                 m_{\\mathrm {e} }"
      ]
     },
     "execution_count": 58,
     "metadata": {},
     "output_type": "execute_result"
    }
   ],
   "source": [
    "get_df('electron mass')"
   ]
  }
 ],
 "metadata": {
  "kernelspec": {
   "display_name": "Python 3 (ipykernel)",
   "language": "python",
   "name": "python3"
  },
  "language_info": {
   "codemirror_mode": {
    "name": "ipython",
    "version": 3
   },
   "file_extension": ".py",
   "mimetype": "text/x-python",
   "name": "python",
   "nbconvert_exporter": "python",
   "pygments_lexer": "ipython3",
   "version": "3.10.12"
  }
 },
 "nbformat": 4,
 "nbformat_minor": 5
}
