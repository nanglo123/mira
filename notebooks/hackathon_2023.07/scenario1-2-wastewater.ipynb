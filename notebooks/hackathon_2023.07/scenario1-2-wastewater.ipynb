{
 "cells": [
  {
   "cell_type": "markdown",
   "id": "76a2f30b",
   "metadata": {},
   "source": [
    "# Scenario1.2 - Wasterwater\n",
    "We are asked to explore the use of wastewater-based data as an observalbe in a model.\n",
    "\n",
    "### Question 1a - Previous Work\n",
    "\n",
    "These two pre-prints emply wastewater data in their models:\n",
    "\n",
    "- https://www.medrxiv.org/content/10.1101/2021.10.19.21265221v1.full.pdf (Fazli et al.)\n",
    "- https://www.medrxiv.org/content/10.1101/2020.11.05.20226738v1.full.pdf (MacMahan et al.)\n",
    "\n",
    "Both papers employ a SEIR model with their individal tweaks."
   ]
  },
  {
   "cell_type": "markdown",
   "id": "76e2c029",
   "metadata": {},
   "source": [
    "## Question 1b - compare models\n",
    "### Fazli et al. SEIR Model\n",
    "In Fazli et al., the SEIR model has an initial birthrate that expands the susceptible population and two observation states that correpsond to the measured count of SARS-CoV-2 RNA in the wastewater and reported cases, respectively."
   ]
  },
  {
   "cell_type": "code",
   "execution_count": 38,
   "id": "4dfbaecf",
   "metadata": {},
   "outputs": [],
   "source": [
    "import sympy\n",
    "import itertools\n",
    "from mira.metamodel import *\n",
    "from mira.modeling import Model\n",
    "from mira.modeling.amr.petrinet import AMRPetriNetModel\n",
    "from mira.modeling.viz import GraphicalModel"
   ]
  },
  {
   "cell_type": "code",
   "execution_count": 39,
   "id": "bdf4c8ef",
   "metadata": {},
   "outputs": [],
   "source": [
    "# Define units and symbols\n",
    "person_units = lambda: Unit(expression=sympy.Symbol('person'))\n",
    "day_units = lambda: Unit(expression=sympy.Symbol('day'))\n",
    "person_per_day_units = lambda: Unit(expression=sympy.Symbol('person')/sympy.Symbol('day'))\n",
    "per_day_units = lambda: Unit(expression=1/sympy.Symbol('day'))\n",
    "dimensionless_units = lambda: Unit(expression=sympy.Integer('1'))\n",
    "per_day_per_person_units = lambda: Unit(expression=1/(sympy.Symbol('day')*sympy.Symbol('person')))\n",
    "per_person_units = lambda: Unit(expression=1/sympy.Symbol('person'))\n",
    "\n",
    "S, E, I, R, V, Y, N, kappa, beta, beta_s, beta_c, k, t_0, t, alpha, delta, rho, gamma, rho_V, rho_Y, br, iota, mu_EI, mu_IR, tau, T_0, tau_star_0, V_0, Q_0 = \\\n",
    "    sympy.symbols('S E I R V Y N kappa beta beta_s beta_c k t_0 t alpha delta rho gamma rho_V rho_Y br iota mu_EI mu_IR tau T_0 tau_star_0 V_0 Q_0')\n"
   ]
  },
  {
   "cell_type": "code",
   "execution_count": 40,
   "id": "f7996784",
   "metadata": {},
   "outputs": [],
   "source": [
    "# Setup\n",
    "# FIXME: use the proper rate values and symbols from the paper\n",
    "concepts_fazli = {\n",
    "    'S': Concept(name='S', units=person_units(), identifiers={'ido': '0000514'}),\n",
    "    'E': Concept(name='E', units=person_units(), identifiers={'apollosv': '0000154'}),\n",
    "    'I': Concept(name='I', units=person_units(), identifiers={'ido': '0000511'}),\n",
    "    'R': Concept(name='R', units=person_units(), identifiers={'ido': '0000592'}),\n",
    "    # Maybe the count for V is RNA snippets?\n",
    "    'V': Concept(name='V', units=dimensionless_units(), identifiers={\"chebi\": \"33697\"}),  # RNA\n",
    "    'Y': Concept(name='Y', units=dimensionless_units(), identifiers={\"cemo\": \"number_of_cases_by_testing\"}),\n",
    "}\n",
    "\n",
    "P = 50_000.0\n",
    "N_0_fazli = 0.05*P\n",
    "\n",
    "parameters_fazli = {\n",
    "    # alpha is a mixing parameter in this model and used as an exponent\n",
    "    'alpha': Parameter(name='alpha', value=1.07, units=dimensionless_units()),\n",
    "    'N': Parameter(name='N', value=N_0_fazli, units=person_units()),\n",
    "#     't_0': Parameter(name='t_0', value=89, unts=day_units, units=day_units()),\n",
    "#     'kappa': Parameter(name='kappa', value=5/11, units=per_day_units()),\n",
    "#     'k': Parameter(name='k', value=5.0, units=dimensionless_units()),\n",
    "    'iota': Parameter(name='iota', value=4.27, units=person_units()),\n",
    "    'mu_EI': Parameter(name='mu_EI', value=1/6, units=per_day_units()),\n",
    "    'mu_IR': Parameter(name='mu_IR', value=1/7.7, units=per_day_units()),\n",
    "    'rho_V': Parameter(name='rho_V', value=3760, units=per_person_units()),\n",
    "    'rho_Y':  Parameter(name='rho_Y', value=0.14, units=per_person_units()),\n",
    "    'br': Parameter(name='br', value=7.68, units=person_units())\n",
    "}\n",
    "\n",
    "initials_fazli = {\n",
    "    'S': Initial(concept=Concept(name='S'), expression=0.95*N_0_fazli),\n",
    "    'E': Initial(concept=Concept(name='E'), expression=0.04*N_0_fazli),\n",
    "    'I': Initial(concept=Concept(name='I'), expression=0.01*N_0_fazli),\n",
    "    'R': Initial(concept=Concept(name='R'), expression=0.0),\n",
    "    'V': Initial(concept=Concept(name='V'), expression=0.0), # Verify with paper\n",
    "    'Y': Initial(concept=Concept(name='Y'), expression=0.0), # Verify with paper\n",
    "}\n",
    "\n",
    "# FIXME\n",
    "# Might want to spell out the reported cases, Y, as a function of I?\n",
    "# and wastewater, V, as a function of E and I?\n",
    "observables_fazli = {\n",
    "    'wastewater_rna': Observable(name='wastewater_rna', expression=SympyExprStr(V)),\n",
    "    'reported_cases': Observable(name='reported_cases', expression=SympyExprStr(rho_V*I))\n",
    "}"
   ]
  },
  {
   "cell_type": "code",
   "execution_count": 42,
   "id": "8dcec2db",
   "metadata": {},
   "outputs": [
    {
     "ename": "AttributeError",
     "evalue": "'float' object has no attribute 'atoms'",
     "output_type": "error",
     "traceback": [
      "\u001b[0;31m---------------------------------------------------------------------------\u001b[0m",
      "\u001b[0;31mAttributeError\u001b[0m                            Traceback (most recent call last)",
      "Cell \u001b[0;32mIn[42], line 45\u001b[0m\n\u001b[1;32m     37\u001b[0m templates_fazli \u001b[38;5;241m=\u001b[39m [t0, t1, t2, t3, t4]\u001b[38;5;66;03m#, t5]\u001b[39;00m\n\u001b[1;32m     38\u001b[0m tm_fazli \u001b[38;5;241m=\u001b[39m TemplateModel(\n\u001b[1;32m     39\u001b[0m     templates\u001b[38;5;241m=\u001b[39mtemplates_fazli,\n\u001b[1;32m     40\u001b[0m     initials\u001b[38;5;241m=\u001b[39minitials_fazli,\n\u001b[0;32m   (...)\u001b[0m\n\u001b[1;32m     43\u001b[0m     annotations\u001b[38;5;241m=\u001b[39mAnnotations(name\u001b[38;5;241m=\u001b[39m\u001b[38;5;124m'\u001b[39m\u001b[38;5;124mScenario 1 q2 fazli\u001b[39m\u001b[38;5;124m'\u001b[39m)\n\u001b[1;32m     44\u001b[0m )\n\u001b[0;32m---> 45\u001b[0m \u001b[43mAMRPetriNetModel\u001b[49m\u001b[43m(\u001b[49m\u001b[43mModel\u001b[49m\u001b[43m(\u001b[49m\u001b[43mtm_fazli\u001b[49m\u001b[43m)\u001b[49m\u001b[43m)\u001b[49m\u001b[38;5;241m.\u001b[39mto_json_file(\u001b[38;5;124m'\u001b[39m\u001b[38;5;124mscenario1_q2_fazli.json\u001b[39m\u001b[38;5;124m'\u001b[39m)\n\u001b[1;32m     46\u001b[0m tm_fazli\u001b[38;5;241m.\u001b[39mobservables\n",
      "File \u001b[0;32m~/Work/mira/mira/modeling/amr/petrinet.py:100\u001b[0m, in \u001b[0;36mAMRPetriNetModel.__init__\u001b[0;34m(self, model)\u001b[0m\n\u001b[1;32m     95\u001b[0m     initial \u001b[38;5;241m=\u001b[39m var\u001b[38;5;241m.\u001b[39mdata\u001b[38;5;241m.\u001b[39mget(\u001b[38;5;124m'\u001b[39m\u001b[38;5;124mexpression\u001b[39m\u001b[38;5;124m'\u001b[39m)\n\u001b[1;32m     96\u001b[0m     \u001b[38;5;28;01mif\u001b[39;00m initial \u001b[38;5;129;01mis\u001b[39;00m \u001b[38;5;129;01mnot\u001b[39;00m \u001b[38;5;28;01mNone\u001b[39;00m:\n\u001b[1;32m     97\u001b[0m         initial_data \u001b[38;5;241m=\u001b[39m {\n\u001b[1;32m     98\u001b[0m             \u001b[38;5;124m'\u001b[39m\u001b[38;5;124mtarget\u001b[39m\u001b[38;5;124m'\u001b[39m: name,\n\u001b[1;32m     99\u001b[0m             \u001b[38;5;124m'\u001b[39m\u001b[38;5;124mexpression\u001b[39m\u001b[38;5;124m'\u001b[39m: \u001b[38;5;28mstr\u001b[39m(initial),\n\u001b[0;32m--> 100\u001b[0m             \u001b[38;5;124m'\u001b[39m\u001b[38;5;124mexpression_mathml\u001b[39m\u001b[38;5;124m'\u001b[39m: \u001b[43mexpression_to_mathml\u001b[49m\u001b[43m(\u001b[49m\u001b[43minitial\u001b[49m\u001b[43m)\u001b[49m\n\u001b[1;32m    101\u001b[0m         }\n\u001b[1;32m    102\u001b[0m         \u001b[38;5;28mself\u001b[39m\u001b[38;5;241m.\u001b[39minitials\u001b[38;5;241m.\u001b[39mappend(initial_data)\n\u001b[1;32m    104\u001b[0m \u001b[38;5;28;01mfor\u001b[39;00m key, observable \u001b[38;5;129;01min\u001b[39;00m model\u001b[38;5;241m.\u001b[39mobservables\u001b[38;5;241m.\u001b[39mitems():\n",
      "File \u001b[0;32m~/Work/mira/mira/metamodel/io.py:65\u001b[0m, in \u001b[0;36mexpression_to_mathml\u001b[0;34m(expression, *args, **kwargs)\u001b[0m\n\u001b[1;32m     62\u001b[0m     expression \u001b[38;5;241m=\u001b[39m expression\u001b[38;5;241m.\u001b[39margs[\u001b[38;5;241m0\u001b[39m]\n\u001b[1;32m     64\u001b[0m mappings \u001b[38;5;241m=\u001b[39m {}\n\u001b[0;32m---> 65\u001b[0m \u001b[38;5;28;01mfor\u001b[39;00m sym \u001b[38;5;129;01min\u001b[39;00m \u001b[43mexpression\u001b[49m\u001b[38;5;241;43m.\u001b[39;49m\u001b[43matoms\u001b[49m(sympy\u001b[38;5;241m.\u001b[39mSymbol):\n\u001b[1;32m     66\u001b[0m     name \u001b[38;5;241m=\u001b[39m \u001b[38;5;124m'\u001b[39m\u001b[38;5;124m|\u001b[39m\u001b[38;5;124m'\u001b[39m \u001b[38;5;241m+\u001b[39m \u001b[38;5;28mstr\u001b[39m(sym)\u001b[38;5;241m.\u001b[39mreplace(\u001b[38;5;124m'\u001b[39m\u001b[38;5;124m_\u001b[39m\u001b[38;5;124m'\u001b[39m, \u001b[38;5;124m'\u001b[39m\u001b[38;5;124mQQQ\u001b[39m\u001b[38;5;124m'\u001b[39m) \u001b[38;5;241m+\u001b[39m \u001b[38;5;124m'\u001b[39m\u001b[38;5;124m|\u001b[39m\u001b[38;5;124m'\u001b[39m\n\u001b[1;32m     67\u001b[0m     mappings[\u001b[38;5;28mstr\u001b[39m(sym)] \u001b[38;5;241m=\u001b[39m name\n",
      "\u001b[0;31mAttributeError\u001b[0m: 'float' object has no attribute 'atoms'"
     ]
    }
   ],
   "source": [
    "# model creation\n",
    "# FIXME: fix rates\n",
    "\n",
    "# Full equation also multiplies with a Gamma white noise here\n",
    "# Infection rate, see equation 15 in Fazli et al.\n",
    "mu_SE = beta*(I+iota)**alpha/N\n",
    "\n",
    "# Birthrate/people entering a susceptible state from \n",
    "# the outside population\n",
    "t0 = NaturalProduction(outcome=concepts_fazli['S'],\n",
    "                       rate_law=br)\n",
    "# Exposure\n",
    "t1 = ControlledConversion(subject=concepts_fazli['S'],\n",
    "                          outcome=concepts_fazli['E'],\n",
    "                          controller=concepts_fazli['I'],\n",
    "                          rate_law=mu_SE)\n",
    "# Infection\n",
    "t2 = NaturalConversion(subject=concepts_fazli['E'],\n",
    "                       outcome=concepts_fazli['I'],\n",
    "                       rate_law=mu_EI*E)\n",
    "# Removal/recovery\n",
    "t3 = NaturalConversion(subject=concepts_fazli['I'],\n",
    "                       outcome=concepts_fazli['R'],\n",
    "                       rate_law=mu_IR*I)\n",
    "# Shedding; both E and I shed\n",
    "t4 = GroupedControlledProduction(\n",
    "    controllers=[concepts_fazli[\"E\"], concepts_fazli[\"I\"]],\n",
    "    outcome=concepts_fazli[\"V\"],\n",
    "    rate_law=rho_V*(E+I),  # Verify with paper\n",
    ")\n",
    "# Testing/case - people from I are tested at a rate of rho_Y per day\n",
    "# t5 = ControlledProduction(\n",
    "#     controller=concepts['I'],\n",
    "#     outcome=concepts['Y'],\n",
    "#     rate_law=rho_Y*I, # Verfiy with paper\n",
    "# )\n",
    "templates_fazli = [t0, t1, t2, t3, t4]#, t5]\n",
    "tm_fazli = TemplateModel(\n",
    "    templates=templates_fazli,\n",
    "    initials=initials_fazli,\n",
    "    time=Time(name='t', units=day_units()),\n",
    "    observables=observables_fazli,\n",
    "    annotations=Annotations(name='Scenario 1 q2 fazli')\n",
    ")\n",
    "AMRPetriNetModel(Model(tm_fazli)).to_json_file('scenario1_q2_fazli.json')\n",
    "tm_fazli.observables"
   ]
  },
  {
   "cell_type": "code",
   "execution_count": null,
   "id": "619aab07",
   "metadata": {},
   "outputs": [],
   "source": [
    "GraphicalModel.for_jupyter(tm_fazli)"
   ]
  },
  {
   "cell_type": "markdown",
   "id": "8871e3db",
   "metadata": {},
   "source": [
    "### McMahan et al. SEIR Model\n",
    "In McMahan et al., the SEIR model only has one observation state correpsonding to the measured count of SARS-CoV-2 RNA in the wastewater. There is also no birth process that expands the susceptible population "
   ]
  },
  {
   "cell_type": "code",
   "execution_count": null,
   "id": "8b7361ed",
   "metadata": {},
   "outputs": [],
   "source": [
    "# Setup\n",
    "# FIXME: use the proper rate values and symbols from the paper\n",
    "concepts_mcmahan = {\n",
    "    'S': Concept(name='S', units=person_units(), identifiers={'ido': '0000514'}),\n",
    "    'E': Concept(name='E', units=person_units(), identifiers={'apollosv': '0000154'}),\n",
    "    'I': Concept(name='I', units=person_units(), identifiers={'ido': '0000511'}),\n",
    "    'R': Concept(name='R', units=person_units(), identifiers={'ido': '0000592'}),\n",
    "    'V': Concept(name='V', units=dimensionless_units(), identifiers={\"chebi\": \"33697\"}),\n",
    "    'Y': Concept(name='Y', units=dimensionless_units(), identifiers={\"cemo\": \"number_of_cases_by_testing\"}),\n",
    "}\n",
    "\n",
    "N_0_mcmahan = 25_000\n",
    "\n",
    "parameters_mcmahan = {\n",
    "    # fixme: get the final beta of the paper, they tried several\n",
    "    'beta': Parameter(name='beta', value=1/5, units=per_day_units()),\n",
    "    'gamma': Parameter(name='gamma', value=1/10, units=per_day_units()),\n",
    "    'delta': Parameter(name='delta', value=1/5, units=per_day_units()),\n",
    "#     'alpha': Parameter(name='alpha', value=1/5, units=per_day_units()),\n",
    "#     'rho': Parameter(name='rho', value=1/9, units=per_day_units()),\n",
    "    'N': Parameter(name='N', value=N_0_mcmahan, units=person_units()),\n",
    "    't_0': Parameter(name='t_0', value=89, unts=day_units, units=day_units()),\n",
    "    # D=11, gamma = 1/D, R_0 = 5 and\n",
    "    # beta = R_0 * gamma * mask(t) so kappa = 5/11\n",
    "    'kappa': Parameter(name='kappa', value=5/11, units=per_day_units()),\n",
    "    'k': Parameter(name='k', value=5.0, units=dimensionless_units()),\n",
    "}\n",
    "\n",
    "# FIXME: use the proper rate values and symbols from the paper\n",
    "initials_mcmahan = {\n",
    "    'S': Initial(concept=Concept(name='S'), expression=0.9999*N_0_mcmahan),\n",
    "    'E': Initial(concept=Concept(name='E'), expression=0.00005*N_0_mcmahan),\n",
    "    'I': Initial(concept=Concept(name='I'), expression=0.00005*N_0_mcmahan),\n",
    "    'R': Initial(concept=Concept(name='R'), expression=0.0),\n",
    "    'V': Initial(concept=Concept(name='V'), expression=0.0),\n",
    "}\n",
    "# Rely on symbols created earlier\n",
    "# FIXME\n",
    "# The function for V is very complicated\n",
    "\n",
    "T = 280  # Current wastewater temperature\n",
    "tau_star = tau_star_0*Q_0**((T-T_0)/10)\n",
    "V = V_0*0.5**(tau/tau_star)\n",
    "\n",
    "# Add to symbols: T_0, tau_star_0, V_0\n",
    "observables_mcmahan = {\n",
    "    'reported_cases': Observable(\n",
    "        name='reported_cases',\n",
    "        expression=V)\n",
    "}\n"
   ]
  },
  {
   "cell_type": "code",
   "execution_count": null,
   "id": "340f0908",
   "metadata": {},
   "outputs": [],
   "source": [
    "# model creation\n",
    "# FIXME: fix rates\n",
    "\n",
    "# Exposure\n",
    "t1 = ControlledConversion(subject=concepts_mcmahan['S'],\n",
    "                          outcome=concepts_mcmahan['E'],\n",
    "                          controller=concepts_mcmahan['I'],\n",
    "                          rate_law=S*I*beta)\n",
    "# Infection/Illness \n",
    "t2 = NaturalConversion(subject=concepts_mcmahan['E'],\n",
    "                       outcome=concepts_mcmahan['I'],\n",
    "                       rate_law=alpha*E)\n",
    "# Removal/recovery\n",
    "t3 = NaturalConversion(subject=concepts_mcmahan['I'],\n",
    "                       outcome=concepts_mcmahan['R'],\n",
    "                       rate_law=gamma*I)\n",
    "\n",
    "templates_mcmahan = [t1, t2, t3]\n",
    "tm_mcmahan = TemplateModel(\n",
    "    templates=templates_mcmahan,\n",
    "    parameters=parameters_mcmahan,\n",
    "    initials=initials_mcmahan,\n",
    "    time=Time(name='t', units=day_units()),\n",
    "    observables=observables_mcmahan,\n",
    "    annotations=Annotations(name='Scenario 1 q2 mcmahan')\n",
    ")\n",
    "AMRPetriNetModel(Model(tm_mcmahan)).to_json_file('scenario1_q2_mcmahan.json')\n",
    "tm_mcmahan.observables"
   ]
  },
  {
   "cell_type": "code",
   "execution_count": null,
   "id": "e79c6818",
   "metadata": {},
   "outputs": [],
   "source": [
    "GraphicalModel.for_jupyter(tm_mcmahan)"
   ]
  },
  {
   "cell_type": "markdown",
   "id": "ed4aae2e",
   "metadata": {},
   "source": [
    "### Model comparison\n",
    "Compare the two models"
   ]
  },
  {
   "cell_type": "code",
   "execution_count": null,
   "id": "1607c391",
   "metadata": {},
   "outputs": [],
   "source": [
    "%env MIRA_REST_URL=http://34.230.33.149:8771 \n",
    "from mira.metamodel.comparison import TemplateModelDelta\n",
    "from mira.dkg.web_client import is_ontological_child_web\n",
    "TemplateModelDelta.for_jupyter(\n",
    "    template_model1=tm_fazli,\n",
    "    template_model2=tm_mcmahan,\n",
    "    refinement_function=is_ontological_child_web,\n",
    "    name='Scenario 1 q2 b compare.png',\n",
    "    args=\"-Grankdir=TB\"\n",
    ")"
   ]
  },
  {
   "cell_type": "markdown",
   "id": "64a27363",
   "metadata": {},
   "source": [
    "Fazli et al. employ two observables, viral load in wastewater and reported cases, while McMahan use only wastewater measurements.\n",
    "\n",
    "McMahan uses a time dependent shedding mechanism, as opposed to a constant rate of shedding in Fazli et al."
   ]
  }
 ],
 "metadata": {
  "kernelspec": {
   "display_name": "Python 3 (ipykernel)",
   "language": "python",
   "name": "python3"
  },
  "language_info": {
   "codemirror_mode": {
    "name": "ipython",
    "version": 3
   },
   "file_extension": ".py",
   "mimetype": "text/x-python",
   "name": "python",
   "nbconvert_exporter": "python",
   "pygments_lexer": "ipython3",
   "version": "3.10.12"
  }
 },
 "nbformat": 4,
 "nbformat_minor": 5
}
