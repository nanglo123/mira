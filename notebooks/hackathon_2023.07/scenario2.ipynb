{
 "cells": [
  {
   "cell_type": "markdown",
   "id": "7798c424",
   "metadata": {},
   "source": [
    "# Hackathon Scenario 2: Multiple Vaccines and Variants\n",
    "Models from early in the Covid-19 pandemic were relatively simple, as we had no vaccines available, only NPIs to mitigate the spread of the disease, and only one strain (the original wild type) to worry about. By mid-2021, the situation was much more complex, as we had access to multiple vaccines, each with multiple doses, and the emergence of multiple variants. You are interested in modeling this situation with SV2(AIR)3 (https://www.nature.com/articles/s41598- 022-06159-x, https://doi.org/10.1038/s41598-022-06159-x), one of the first models to represent multiple Covid-19 variants, and the competition between them."
   ]
  },
  {
   "cell_type": "markdown",
   "id": "d274fc77",
   "metadata": {},
   "source": [
    "1. Extract the simplest version of the model with 1 vaccine and 1 variant (shown in Fig. 1A)\n",
    "\n",
    "  a. (TA1 Model Extraction Workflow) Extract the model from Matlab code\n",
    "‘svair_simple.m’ and ‘get_beta.m’ and with the publication equations and Fig. 1A (with the exception of one small difference between code and figure). Note that in this code, the units of all state variables are in terms of fraction of the total population.\n",
    "  \n",
    "  b. (TA3 Simulation Workflow) Simulate the first 14 months of the pandemic beginning on January 1st, 2020. Consider only the Wild Type variant, and no vaccination during this period. Use parameter values from the supplementary material, for the wild type. Use the population of Ontario in 2019: 14.57 million people, and let the natural death rate 𝜇 = 2.05𝑒-5. For initial conditions, let 𝐼(0) = 1e-6, 𝑆(0) = 1 − 𝑠𝑢𝑚(𝐼(0) + 𝐴(0)), and all other values be 0. When do I(t) and A(t) peak, and what is the value of these variables at their peaks? How do the I(t) and A(t) profiles compare with Fig. 3d,f (which considered 3 variants and 2 types of vaccines)? Given that this question assumes only the presence of the Wild Type variant, do the results seem reasonable?\n",
    "  \n",
    "  c. (TA2 Domain Knowledge Grounding; ASKEM Workbench Only) Demonstrate that the domain knowledge groundings accurately reflect new concepts with the extensions such as “variants”."
   ]
  },
  {
   "cell_type": "code",
   "execution_count": null,
   "id": "0991209a",
   "metadata": {},
   "outputs": [],
   "source": [
    "import sympy\n",
    "from copy import deepcopy as _d\n",
    "from mira.metamodel import *\n",
    "from mira.modeling import Model\n",
    "from mira.modeling.amr.petrinet import AMRPetriNetModel\n",
    "from mira.modeling.viz import GraphicalModel"
   ]
  },
  {
   "cell_type": "markdown",
   "id": "fedc0ecb",
   "metadata": {},
   "source": [
    "## Represent original beta_scale timeline from the model"
   ]
  },
  {
   "cell_type": "code",
   "execution_count": null,
   "id": "dc86827c",
   "metadata": {
    "scrolled": true
   },
   "outputs": [],
   "source": [
    "times = [0, 82, 198, 282, 327, 370, 429, 468, 527, 548, 562, 609, 670, 731, 1096]\n",
    "beta_scales = [1, 0.4, 0.55, 0.6, 0.55, 0.3, 0.4, 0.15, 0.2, 0.3, 0.35, 0.4, 0.5, 0.4]\n",
    "\n",
    "t = sympy.Symbol('t')\n",
    "\n",
    "beta_scale_var = sympy.Piecewise(\n",
    "    *[(b, (tl <= t) & (t < tu))\n",
    "      for (tl, tu), b in zip(zip(times[:-1], times[1:]), beta_scales)],\n",
    "    (1, True)\n",
    ")"
   ]
  },
  {
   "cell_type": "code",
   "execution_count": null,
   "id": "53829d8f",
   "metadata": {
    "scrolled": true
   },
   "outputs": [],
   "source": [
    "beta_scale_var"
   ]
  },
  {
   "cell_type": "markdown",
   "id": "47ff78b7",
   "metadata": {},
   "source": [
    "## Alternative: model a static beta_scale and handle timeline during simulation"
   ]
  },
  {
   "cell_type": "code",
   "execution_count": null,
   "id": "a6812e4c",
   "metadata": {},
   "outputs": [],
   "source": [
    "beta_scale_static = 1.0"
   ]
  },
  {
   "cell_type": "markdown",
   "id": "12e3cc5e",
   "metadata": {},
   "source": [
    "#### Select between two beta_scales"
   ]
  },
  {
   "cell_type": "code",
   "execution_count": null,
   "id": "71ee7a74",
   "metadata": {},
   "outputs": [],
   "source": [
    "beta_scale_type = 'static'  # var\n",
    "if beta_scale_type == 'static':\n",
    "    beta_scale = beta_scale_static\n",
    "else:\n",
    "    beta_scale = beta_scale_var"
   ]
  },
  {
   "cell_type": "code",
   "execution_count": null,
   "id": "716217a7",
   "metadata": {},
   "outputs": [],
   "source": [
    "person_units = Unit(expression=sympy.Symbol('person'))\n",
    "day_units = Unit(expression=sympy.Symbol('day'))\n",
    "per_day_units = Unit(expression=1/sympy.Symbol('day'))\n",
    "dimensionless_units = Unit(expression=sympy.Integer('1'))\n",
    "\n",
    "populations = {\n",
    "    # Susceptible\n",
    "    'S': [{'ido': '0000514'}, {'vaccination_status': 'vo:0001377'}],\n",
    "    # Susceptible lost immunity\n",
    "    'SVR': [{'ido': '0000514'}, {'disease_history': 'ido:0000592'}],\n",
    "    # Vaccinated once\n",
    "    'V1': [{'ido': '0000514'}, {'vaccination_status': 'askemo:0000018'}],\n",
    "    # Vaccinated twice\n",
    "    'V2': [{'ido': '0000514'}, {'vaccination_status': 'askemo:0000019'}],\n",
    "    # Infected\n",
    "    'I': [{'ido': '0000511'}, {}],\n",
    "    # Infected vaccinated\n",
    "    'IV': [{'ido': '0000511'}, {'vaccination_status': 'vo:0001376'}],\n",
    "    # Infected after recovery\n",
    "    'IR': [{'ido': '0000511'}, {'disease_history': 'ido:0000592'}],\n",
    "    # Asymptomatic\n",
    "    'A': [{'ido': '0000511'}, {'disease_severity': 'ncit:C3833'}],\n",
    "    # Asymptomatic after recovery\n",
    "    'AR': [{'ido': '0000511'}, {'disease_severity': 'ncit:C3833'}],\n",
    "    # Recovered\n",
    "    'R': [{'ido': '0000514'}, {'disease_severity': 'ido:0000592'}],\n",
    "    # Recovered after second infection\n",
    "    'R2': [{'ido': '0000592'}, {}],\n",
    "}\n",
    "\n",
    "c = {\n",
    "    pop: Concept(name=pop, units=dimensionless_units,\n",
    "                 identifiers=indentifiers, context=context)\n",
    "    for pop, (indentifiers, context) in populations.items()\n",
    "}\n",
    "\n",
    "N = 14570000\n",
    "\n",
    "parameters = [\n",
    "    Parameter(name='beta', value=3.3e-9*N, units=per_day_units),\n",
    "    Parameter(name='beta_v1', value=0.2*3.3e-9*N, units=per_day_units),\n",
    "    Parameter(name='beta_v2', value=0.05*3.3e-9*N, units=per_day_units),\n",
    "    Parameter(name='beta_R', value=0.05*3.3e-9*N, units=per_day_units),\n",
    "    Parameter(name='gamma', value=1/28, units=per_day_units),\n",
    "    Parameter(name='mu', value=109019/(14570000*365), units=per_day_units),\n",
    "    Parameter(name='mu_I', value=0.001, units=per_day_units),\n",
    "    Parameter(name='mu_IV', value=0.15*0.001, units=per_day_units),\n",
    "    Parameter(name='nu_R', value=1/(4*365), units=per_day_units),\n",
    "    Parameter(name='nu_v1', value=1/365, units=per_day_units),\n",
    "    Parameter(name='nu_v2', value=1/(4*365), units=per_day_units),\n",
    "    Parameter(name='ai', value=0.5, units=dimensionless_units), # paper uses sigma instead of ai\n",
    "    Parameter(name='ai_V', value=0.85, units=dimensionless_units),\n",
    "    Parameter(name='ai_R', value=0.85, units=dimensionless_units),\n",
    "    Parameter(name='ai_beta_ratio', value=3.0, units=dimensionless_units),\n",
    "]\n",
    "\n",
    "if beta_scale_type == 'static':\n",
    "    parameters.append(Parameter(name='beta_scale', value=1.0, units=dimensionless_units))\n",
    "    beta_scale = sympy.Symbol('beta_scale')\n",
    "\n",
    "initials = {\n",
    "    'S': Initial(concept=c['S'], expression=1-1e-6),\n",
    "    'SVR': Initial(concept=c['SVR'], expression=0.0),\n",
    "    'V1': Initial(concept=c['V1'], expression=0.0),\n",
    "    'V2': Initial(concept=c['V2'], expression=0.0),\n",
    "    'I': Initial(concept=c['I'], expression=1e-6),\n",
    "    'IV': Initial(concept=c['IV'], expression=0.0),\n",
    "    'IR': Initial(concept=c['IR'], expression=0.0),\n",
    "    'A': Initial(concept=c['A'], expression=0.0),\n",
    "    'AR': Initial(concept=c['AR'], expression=0.0),\n",
    "    'R': Initial(concept=c['R'], expression=0.0),\n",
    "    'R2': Initial(concept=c['R2'], expression=0.0),\n",
    "}"
   ]
  },
  {
   "cell_type": "code",
   "execution_count": null,
   "id": "f91e5e06",
   "metadata": {},
   "outputs": [],
   "source": [
    "S, SVR, V1, V2, I, IV, IR, A, AR, R, R2 = sympy.symbols('S SVR V1 V2 I IV IR A AR R R2')"
   ]
  },
  {
   "cell_type": "code",
   "execution_count": null,
   "id": "45045c21",
   "metadata": {},
   "outputs": [],
   "source": [
    "beta, beta_v1, beta_v2, beta_R, gamma, mu, mu_I, mu_IV, nu_R, nu_v1, nu_v2, ai, ai_V, ai_R, ai_beta_ratio = \\\n",
    "    sympy.symbols('beta beta_v1 beta_v2 beta_R gamma mu mu_I mu_IV nu_R nu_v1 nu_v2 ai ai_V ai_R ai_beta_ratio')"
   ]
  },
  {
   "cell_type": "code",
   "execution_count": null,
   "id": "563bef26",
   "metadata": {},
   "outputs": [],
   "source": [
    "all_infectious = [c['I'], c['IV'], c['IR'], c['A'], c['AR']]\n",
    "inf_terms = [I, IV, IR, ai_beta_ratio*A, ai_beta_ratio*AR]\n",
    "\n",
    "templates = []\n",
    "for inf, inf_term in zip(all_infectious, inf_terms):\n",
    "    # Infection asym\n",
    "    t = ControlledConversion(subject=c['S'], outcome=c['A'],\n",
    "                             controller=_d(inf),\n",
    "                             rate_law=ai*beta*beta_scale*S*inf_term)\n",
    "    templates.append(t)\n",
    "    t = ControlledConversion(subject=c['V1'], outcome=c['A'],\n",
    "                             controller=_d(inf),\n",
    "                             rate_law=ai*beta*beta_scale*V1*inf_term)\n",
    "    templates.append(t)\n",
    "    t = ControlledConversion(subject=c['V2'], outcome=c['A'],\n",
    "                             controller=_d(inf),\n",
    "                             rate_law=ai*beta*beta_scale*V2*inf_term)\n",
    "    templates.append(t)\n",
    "\n",
    "    # Infection sym\n",
    "    t = ControlledConversion(subject=c['S'], outcome=c['I'],\n",
    "                             controller=_d(inf),\n",
    "                             rate_law=(1-ai)*beta*beta_scale*S*inf_term)\n",
    "    templates.append(t)\n",
    "    t = ControlledConversion(subject=c['V1'], outcome=c['IV'],\n",
    "                             controller=_d(inf),\n",
    "                             rate_law=ai*beta_v1*beta_scale*V1*inf_term)\n",
    "    templates.append(t)\n",
    "    t = ControlledConversion(subject=c['V2'], outcome=c['IV'],\n",
    "                             controller=_d(inf),\n",
    "                             rate_law=ai*beta_v2*beta_scale*V2*inf_term)\n",
    "    templates.append(t)\n",
    "    \n",
    "    \n",
    "    # Reinfection asym\n",
    "    t = ControlledConversion(subject=c['R'], outcome=c['AR'],\n",
    "                             controller=_d(inf),\n",
    "                             rate_law=ai_R*beta_R*beta_scale*R*inf_term)\n",
    "    templates.append(t)\n",
    "    # Reinfection sym\n",
    "    t = ControlledConversion(subject=c['R'], outcome=c['IR'],\n",
    "                             controller=_d(inf),\n",
    "                             rate_law=(1-ai_R)*beta_R*beta_scale*R*inf_term)\n",
    "    templates.append(t)\n",
    "\n",
    "templates += [\n",
    "    # Vaccination\n",
    "    # Note: structurally we want to have these in the model but we make the rates 0\n",
    "    NaturalConversion(subject=c['S'], outcome=c['V1'], rate_law=0*S),\n",
    "    NaturalConversion(subject=c['A'], outcome=c['V1'], rate_law=0*A),\n",
    "    NaturalConversion(subject=c['V1'], outcome=c['V2'], rate_law=0*V1),\n",
    "\n",
    "    # Recovery\n",
    "    NaturalConversion(subject=c['I'], outcome=c['R'], rate_law=gamma*I),\n",
    "    NaturalConversion(subject=c['IV'], outcome=c['R'], rate_law=gamma*IV),\n",
    "    NaturalConversion(subject=c['A'], outcome=c['R'], rate_law=gamma*A),\n",
    "\n",
    "    # Second recovery\n",
    "    NaturalConversion(subject=c['IR'], outcome=c['R2'], rate_law=gamma*IR),\n",
    "    NaturalConversion(subject=c['AR'], outcome=c['R2'], rate_law=gamma*AR),\n",
    "\n",
    "    # Death\n",
    "    NaturalDegradation(subject=c['S'], rate_law=mu*S),\n",
    "    NaturalDegradation(subject=c['SVR'], rate_law=mu*SVR),\n",
    "    NaturalDegradation(subject=c['V1'], rate_law=mu*V1),\n",
    "    NaturalDegradation(subject=c['V2'], rate_law=mu*V2),\n",
    "    NaturalDegradation(subject=c['I'], rate_law=mu_I*I),\n",
    "    NaturalDegradation(subject=c['IV'], rate_law=mu_IV*IV),\n",
    "    NaturalDegradation(subject=c['IR'], rate_law=mu*IR),\n",
    "    NaturalDegradation(subject=c['A'], rate_law=mu*A),\n",
    "    NaturalDegradation(subject=c['AR'], rate_law=mu*AR),\n",
    "    NaturalDegradation(subject=c['R'], rate_law=mu*R),\n",
    "    NaturalDegradation(subject=c['R2'], rate_law=mu*R2),\n",
    "    \n",
    "    # Birth\n",
    "    NaturalProduction(outcome=c['S'], rate_law=mu),\n",
    "\n",
    "    # Loss of immunity\n",
    "    NaturalConversion(subject=c['V1'], outcome=c['SVR'], rate_law=nu_v1*V1),\n",
    "    NaturalConversion(subject=c['V2'], outcome=c['SVR'], rate_law=nu_v2*V2),\n",
    "    NaturalConversion(subject=c['R'], outcome=c['SVR'], rate_law=nu_R*R),\n",
    "    NaturalConversion(subject=c['R2'], outcome=c['SVR'], rate_law=nu_R*R2),\n",
    "]"
   ]
  },
  {
   "cell_type": "code",
   "execution_count": null,
   "id": "25dfad3d",
   "metadata": {},
   "outputs": [],
   "source": [
    "tm = TemplateModel(templates=templates,\n",
    "                   parameters={p.name: p for p in parameters},\n",
    "                   initials=initials)\n",
    "tm.annotations = Annotations(name=\"Scenario 2a\")\n",
    "\n",
    "%debug\n",
    "AMRPetriNetModel(Model(tm)).to_json_file('scenario2_a_beta_scale_%s.json' % beta_scale_type)"
   ]
  },
  {
   "cell_type": "markdown",
   "id": "7975c2fb",
   "metadata": {},
   "source": [
    "## Modifying the model\n",
    "\n",
    "2.Extend the model to incorporate multiple strains and 2 vaccine types, according to publication Fig. 1B and equations #2-12.\n",
    "\n",
    "b.\t(TA2 Model Modification/Extension Workflow) Alternately, use TA2 model extension/transformation tools, to extend the simpler model extracted from Question 1.  How does this extended model compare with the extracted model from 2a?\n",
    "\n",
    "### Stratify by vaccine types"
   ]
  },
  {
   "cell_type": "code",
   "execution_count": null,
   "id": "3edbf1c4",
   "metadata": {},
   "outputs": [],
   "source": [
    "from mira.metamodel.ops import stratify\n",
    "tm_multi_vax = stratify(\n",
    "    tm,\n",
    "    key='vaccine_type',\n",
    "    strata=['vo:0004987', 'vo:0005158'],\n",
    "    structure=[],\n",
    "    cartesian_control=True,\n",
    "    concepts_to_stratify={'V1', 'V2', 'IV'},\n",
    "    params_to_stratify={'beta_v1', 'beta_v2', 'ai_v', 'nu_v1', 'nu_v2', 'mu_IV'},\n",
    "    )"
   ]
  },
  {
   "cell_type": "code",
   "execution_count": null,
   "id": "05f012e3",
   "metadata": {},
   "outputs": [],
   "source": [
    "for t in tm_multi_vax.templates:\n",
    "    if isinstance(t, NaturalProduction):\n",
    "        print(t)"
   ]
  },
  {
   "cell_type": "code",
   "execution_count": null,
   "id": "b4c7d917",
   "metadata": {},
   "outputs": [],
   "source": [
    "tm_multi_vax.annotations.name = 'Scenario 2.2.b multi-vax'\n",
    "tm_multi_vax.annotations.description = 'Scenario 2.2.b model with two different vaccine types '\\\n",
    "    '(Pfizer and AstraZeneca)'\n",
    "AMRPetriNetModel(Model(tm_multi_vax)).to_json_file('scenario2_2_b_multi_vax.json')\n",
    "GraphicalModel.for_jupyter(tm_multi_vax)"
   ]
  },
  {
   "cell_type": "markdown",
   "id": "e4d3bfd2",
   "metadata": {},
   "source": [
    "### Stratify by viral strains"
   ]
  },
  {
   "cell_type": "code",
   "execution_count": null,
   "id": "9b22c7da",
   "metadata": {},
   "outputs": [],
   "source": [
    "tm_multi_strain = stratify(\n",
    "    tm_multi_vax,\n",
    "    key='strain',\n",
    "    strata=['wt', 'cido:0000371', 'cido:0000376'],\n",
    "    structure=[],\n",
    "    cartesian_control=True,\n",
    "    concepts_to_stratify={'IV_vo:0004987', 'IV_vo:0005158', 'I', 'IR', 'A', 'AR', 'R'},\n",
    "    params_to_stratify={'beta', 'beta_R', 'gamma', 'mu_I', 'mu_IV_vo:0004987', 'mu_IV_vo:0005158'}\n",
    "    )"
   ]
  },
  {
   "cell_type": "code",
   "execution_count": null,
   "id": "0edb0399",
   "metadata": {},
   "outputs": [],
   "source": [
    "tm_multi_strain.annotations.name = 'Scenario 2.2.b multi-vax/multi-strain'\n",
    "tm_multi_strain.annotations.description = 'Scenario 2.2.b model with two different vaccine types '\\\n",
    "    '(Pfizer and AstraZeneca) and three variants (WT, Alpha, Delta)'\n",
    "AMRPetriNetModel(Model(tm_multi_strain)).to_json_file('scenario2_2_b_multi_vax_multi_strain.json')\n",
    "GraphicalModel.for_jupyter(tm_multi_strain)"
   ]
  },
  {
   "cell_type": "markdown",
   "id": "bba458e2",
   "metadata": {},
   "source": [
    "## Adapt the model to the delta/omicron era\n",
    "\n",
    "4.\tOmicron Extension. The research in the paper was done before the Omicron variant, but the authors ran predictions for a fictional variant Neos, designed to be deadlier than previous variants, through increased infectivity, vaccine escape, and fraction of asymptomatic infections. There are some similarities between this fictional variant, and Omicron. Assume you are in the fall of 2021, at a time when Delta was on the downswing, and Omicron was emerging.\n",
    "a.\t(TA2 Model Modification Workflow) Simplify the model structure to still consider multiple vaccines, but only the Delta and Omicron variants"
   ]
  },
  {
   "cell_type": "code",
   "execution_count": null,
   "id": "e178e0a0",
   "metadata": {},
   "outputs": [],
   "source": [
    "tm_multi_strain_2 = stratify(\n",
    "    tm_multi_vax,\n",
    "    key='strain',\n",
    "    strata=['cido:0000376', 'cido:0000590'],\n",
    "    structure=[],\n",
    "    cartesian_control=True,\n",
    "    concepts_to_stratify={'IV_vo:0004987', 'IV_vo:0005158', 'I', 'IR', 'A', 'AR', 'R'},\n",
    "    params_to_stratify={'beta', 'beta_R', 'gamma', 'mu_I', 'mu_IV_vo:0004987', 'mu_IV_vo:0005158'}\n",
    "    )"
   ]
  },
  {
   "cell_type": "code",
   "execution_count": null,
   "id": "80b5234f",
   "metadata": {},
   "outputs": [],
   "source": [
    "tm_multi_strain_2.annotations.name = 'Scenario 2.4.a multi-vax/Delta-Omicron'\n",
    "tm_multi_strain_2.annotations.description = 'Scenario 2.4.a model with two different vaccine types ' \\\n",
    "    '(Pfizer and AstraZeneca) and two variants (Delta, Omicron)'\n",
    "AMRPetriNetModel(Model(tm_multi_strain_2)).to_json_file('scenario2_4_a_multi_vax_delta_omicron.json')\n",
    "GraphicalModel.for_jupyter(tm_multi_strain_2)"
   ]
  },
  {
   "cell_type": "markdown",
   "id": "802dd06b",
   "metadata": {},
   "source": [
    "### Stratify by age group\n",
    "\n",
    "5.Change the setting to the United States\n",
    "\n",
    "c.\tChallenge (TA2 Model Modification Workflow) As noted in the publication, a major limitation of the model is the lack of age structure, as mortality rates and impacts of NPIs affect different age groups at varying levels. Stratify the model to match the number of age groups found in US CDC vaccination and dosage data: https://data.cdc.gov/Vaccinations/COVID-19-Vaccinations-in-the-United-States-Jurisdi/unsk-b7fc. Then rerun the simulation for the time period January 1st, 2020 – December 31st, 2021. How do outcomes differ by age group? For United States contact matrices, refer to https://doi.org/10.1371/journal.pcbi.1005697; https://doi.org/10.1371/journal.pcbi.1009098"
   ]
  },
  {
   "cell_type": "code",
   "execution_count": null,
   "id": "1e86229d",
   "metadata": {},
   "outputs": [],
   "source": [
    "tm_age = stratify(\n",
    "    tm_multi_strain_2,\n",
    "    key='age',\n",
    "    strata=['0_5', '5_12', '12_18', '18_65', '65'],\n",
    "    structure=[],\n",
    "    cartesian_control=True,\n",
    "    params_to_stratify={p for p in tm_multi_strain_2.parameters if p.startswith('beta_')}\n",
    "    )"
   ]
  },
  {
   "cell_type": "code",
   "execution_count": null,
   "id": "99120043",
   "metadata": {},
   "outputs": [],
   "source": [
    "tm_age.annotations.name = 'Scenario 2.5.c multi-vax/Delta-Omicron/age'\n",
    "tm_age.annotations.description = 'Scenario 2.5.c model with two different vaccine types (' \\\n",
    "    'Pfizer and AstraZeneca) and two variants (Delta, Omicron) and 5 age groups.'\n",
    "AMRPetriNetModel(Model(tm_age)).to_json_file('scenario2_5_c_multi_vax_delta_omicron_age.json')"
   ]
  },
  {
   "cell_type": "markdown",
   "id": "d12fb2f2",
   "metadata": {},
   "source": [
    "## Model statistics"
   ]
  },
  {
   "cell_type": "code",
   "execution_count": null,
   "id": "c294e251",
   "metadata": {},
   "outputs": [],
   "source": [
    "import pandas as pd\n",
    "data = [[m.annotations.name, len(m.templates), len(m.parameters), len(Model(m).variables)]\n",
    "        for m in [tm, tm_multi_vax, tm_multi_strain, tm_multi_strain_2, tm_age]]\n",
    "pd.DataFrame(data, columns=[\"Model\", \"#transitions\", \"#params\", \"#states\"])"
   ]
  }
 ],
 "metadata": {
  "kernelspec": {
   "display_name": "Python 3 (ipykernel)",
   "language": "python",
   "name": "python3"
  },
  "language_info": {
   "codemirror_mode": {
    "name": "ipython",
    "version": 3
   },
   "file_extension": ".py",
   "mimetype": "text/x-python",
   "name": "python",
   "nbconvert_exporter": "python",
   "pygments_lexer": "ipython3",
   "version": "3.10.12"
  }
 },
 "nbformat": 4,
 "nbformat_minor": 5
}
