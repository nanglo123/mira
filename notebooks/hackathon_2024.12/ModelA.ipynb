{
 "cells": [
  {
   "cell_type": "code",
   "execution_count": 1,
   "id": "3b3f6a3c",
   "metadata": {},
   "outputs": [],
   "source": [
    "import sympy as sp\n",
    "from mira.metamodel import *\n",
    "from mira.sources.sympy_ode import template_model_from_sympy_odes\n",
    "from mira.modeling.amr.petrinet import template_model_to_petrinet_json_file\n",
    "\n",
    "# Define time variable\n",
    "t = sp.symbols(\"t\")\n",
    "\n",
    "# Define time-dependent variables\n",
    "S_l, S_h, E_h, P, I1, I2, H, R_h, S_r, E_r, I_r, R_r = sp.symbols(\n",
    "    \"S_l S_h E_h P I1 I2 H R_h S_r E_r I_r R_r\", cls=sp.Function\n",
    ")\n",
    "\n",
    "# Define the parameters with spelled-out names\n",
    "delta_i, eta, alpha, beta_hh, beta_rr, beta_rh, pi_h, rho, nu, lambda_h, mu_h, sigma_h, omega, theta, k1, k2, tau1, tau2, tau3, delta_h, pi_r, lambda_r, mu_r, sigma_r, delta_r, tau_r = sp.symbols(\n",
    "    \"delta_i eta alpha beta_hh beta_rr beta_rh pi_h rho nu lambda_h mu_h sigma_h omega theta k1 k2 tau1 tau2 tau3 delta_h pi_r lambda_r mu_r sigma_r delta_r tau_r\"\n",
    ")\n",
    "\n",
    "# Define the system of ODEs\n",
    "N_h = S_h(t) + S_l(t) + E_h(t) + P(t) + I1(t) + I2(t) + H(t) + R_h(t)\n",
    "N_r = S_r(t) + E_r(t) + I_r(t) + R_r(t)\n",
    "lambda_h = beta_hh * (alpha*P(t) + eta*I1(t) + I2(t)) / N_h + beta_rh * I_r(t) / N_r\n",
    "lambda_r = beta_rr * I_r(t) / N_r\n",
    "\n",
    "odes4 = [\n",
    "    sp.Eq(S_l(t).diff(t), pi_h * (1 - rho) - nu * lambda_h * S_l(t) - mu_h * S_l(t)),\n",
    "    sp.Eq(S_h(t).diff(t), pi_h * rho - lambda_h * S_h(t) - mu_h * S_h(t)),\n",
    "    sp.Eq(E_h(t).diff(t), nu * S_l(t) * lambda_h + S_h(t) * lambda_h - (sigma_h + mu_h) * E_h(t)),\n",
    "    sp.Eq(P(t).diff(t), sigma_h * E_h(t) - (omega + mu_h) * P(t)),\n",
    "    sp.Eq(I1(t).diff(t), omega * P(t) - (theta + k1 + tau1 + mu_h) * I1(t)),\n",
    "    sp.Eq(I2(t).diff(t), theta * I1(t) - (k2 + delta_i + tau2 + mu_h) * I2(t)),\n",
    "    sp.Eq(H(t).diff(t), k1 * I1(t) + k2 * I2(t) - (delta_h + tau3 + mu_h) * H(t)),\n",
    "    sp.Eq(R_h(t).diff(t), tau1 * I1(t) + tau2 * I2(t) + tau3 * H(t) - mu_h * R_h(t)),\n",
    "    sp.Eq(S_r(t).diff(t), pi_r - lambda_r * S_r(t) - mu_r * S_r(t)),\n",
    "    sp.Eq(E_r(t).diff(t), lambda_r * S_r(t) - (sigma_r + mu_r) * E_r(t)),\n",
    "    sp.Eq(I_r(t).diff(t), sigma_r * E_r(t) - (delta_r + tau_r + mu_r) * I_r(t)),\n",
    "    sp.Eq(R_r(t).diff(t), tau_r * I_r(t) - mu_r * R_r(t)),\n",
    "]\n",
    "\n",
    "concept_data = {\n",
    "    'S_l': {'identifiers': {'ido': '0000514'},\n",
    "            'context': {'severity': 'low', 'species': 'ncbitaxon:9606'}},\n",
    "    'S_h': {'identifiers': {'ido': '0000514'},\n",
    "            'context': {'severity': 'high', 'species': 'ncbitaxon:9606'}},\n",
    "    'E_h': {'identifiers': {'apollosv': '00000154'},\n",
    "            'context': {'species': 'ncbitaxon:9606'}},\n",
    "    'P': {'identifiers': {'ido': '0000511'},\n",
    "          'context': {'stage': 'predromal', 'species': 'ncbitaxon:9606'}},\n",
    "    'I1': {'identifiers': {'ido': '0000511'},\n",
    "           'context': {'stage': 'mild', 'species': 'ncbitaxon:9606'}},\n",
    "    'I2': {'identifiers': {'ido': '0000511'},\n",
    "           'context': {'stage': 'severe', 'species': 'ncbitaxon:9606'}},\n",
    "    'H': {'identifiers': {'ido': '0000511'},\n",
    "         'context': {'hospitalization': 'ncit:C25179', 'species': 'ncbitaxon:9606'}},\n",
    "    'R_h': {'identifiers': {'ido': '0000592'},\n",
    "         'context': {'species': 'ncbitaxon:9606'}},\n",
    "    'S_r': {'identifiers': {'ido': '0000514'},\n",
    "            'context': {'species': 'ncbitaxon:9989'}},\n",
    "    'E_r': {'identifiers': {'apollosv': '00000154'},\n",
    "            'context': {'species': 'ncbitaxon:9989'}},\n",
    "    'I_r': {'identifiers': {'ido': '0000511'},\n",
    "           'context': {'species': 'ncbitaxon:9989'}},\n",
    "    'R_r': {'identifiers': {'ido': '0000592'},\n",
    "            'context': {'species': 'ncbitaxon:9989'}},\n",
    "}\n",
    "\n",
    "parameter_data = {\n",
    "    'Nh': {'value': 1.8e8},\n",
    "    'Nr': {'value': 1.8e6},\n",
    "    'mu_h': {'value': 0.000045},\n",
    "    'mu_r': {'value': 0.002},\n",
    "    'pi_h': {'value': 2500},\n",
    "    'pi_r': {'value': 0.5},\n",
    "    'rho': {'value': 0.8},\n",
    "    'nu': {'value': 0.045},\n",
    "    'beta_hh': {'value': 0.03},\n",
    "    'beta_rh': {'value': 0.3045},\n",
    "    'beta_rr': {'value': 0.025},\n",
    "    'alpha': {'value': 0.75},\n",
    "    'eta': {'value': 0.8},\n",
    "    'sigma_h': {'value': 0.033},\n",
    "    'sigma_r': {'value': 0.0083},\n",
    "    'omega': {'value': 0.0042},\n",
    "    'theta': {'value': 0.021},\n",
    "    'k1': {'value': 0.2},\n",
    "    'k2': {'value': 0.4},\n",
    "    'tau1': {'value': 0.048},\n",
    "    'tau2': {'value': 0.05},\n",
    "    'tau3': {'value': 0.056},\n",
    "    'tau_r': {'value': 0.083},\n",
    "    'delta_i': {'value': 0.0011},\n",
    "    'delta_h': {'value': 0.001},\n",
    "    'delta_r': {'value': 0.057},\n",
    "}\n",
    "\n",
    "\n",
    "initials = {\n",
    "    'S_l': Initial(concept=Concept(name='S_l'), expression=SympyExprStr(sp.Float(12e7))),\n",
    "    'S_h': Initial(concept=Concept(name='S_h'), expression=SympyExprStr(sp.Float(6e7))),\n",
    "    'E_h': Initial(concept=Concept(name='E_h'), expression=SympyExprStr(sp.Float(2000))),\n",
    "    'P': Initial(concept=Concept(name='P'), expression=SympyExprStr(sp.Float(70))),\n",
    "    'I1': Initial(concept=Concept(name='I1'), expression=SympyExprStr(sp.Float(2))),\n",
    "    'I2': Initial(concept=Concept(name='I2'), expression=SympyExprStr(sp.Float(1))),\n",
    "    'H': Initial(concept=Concept(name='H'), expression=SympyExprStr(sp.Float(1))),\n",
    "    'R_h': Initial(concept=Concept(name='R_h'), expression=SympyExprStr(sp.Float(0))),\n",
    "    'S_r': Initial(concept=Concept(name='S_r'), expression=SympyExprStr(sp.Float(6e5))),\n",
    "    'E_r': Initial(concept=Concept(name='E_r'), expression=SympyExprStr(sp.Float(800))),\n",
    "    'I_r': Initial(concept=Concept(name='I_r'), expression=SympyExprStr(sp.Float(16))),\n",
    "    'R_r': Initial(concept=Concept(name='R_r'), expression=SympyExprStr(sp.Float(2))),\n",
    "}\n",
    "\n",
    "case_expr = sp.parse_expr('P + I1 + I2 + H')\n"
   ]
  },
  {
   "cell_type": "code",
   "execution_count": null,
   "id": "41438e34",
   "metadata": {},
   "outputs": [],
   "source": []
  },
  {
   "cell_type": "code",
   "execution_count": 2,
   "id": "7f3e6a90",
   "metadata": {},
   "outputs": [],
   "source": [
    "tm = template_model_from_sympy_odes(odes4, param_data=parameter_data, concept_data=concept_data)\n",
    "tm.initials = initials"
   ]
  },
  {
   "cell_type": "code",
   "execution_count": 19,
   "id": "daae04cf",
   "metadata": {},
   "outputs": [
    {
     "data": {
      "text/latex": [
       "$\\displaystyle S_{h} \\left(\\frac{I_{r} \\beta_{rh}}{E_{r} + I_{r} + R_{r} + S_{r}} + \\frac{\\beta_{hh} \\left(I_{1} \\eta + I_{2} + P \\alpha\\right)}{E_{h} + H + I_{1} + I_{2} + P + R_{h} + S_{h} + S_{l}}\\right) + S_{l} \\nu \\left(\\frac{I_{r} \\beta_{rh}}{E_{r} + I_{r} + R_{r} + S_{r}} + \\frac{\\beta_{hh} \\left(I_{1} \\eta + I_{2} + P \\alpha\\right)}{E_{h} + H + I_{1} + I_{2} + P + R_{h} + S_{h} + S_{l}}\\right)$"
      ],
      "text/plain": [
       "S_h*(I_r*beta_rh/(E_r + I_r + R_r + S_r) + beta_hh*(I1*eta + I2 + P*alpha)/(E_h + H + I1 + I2 + P + R_h + S_h + S_l)) + S_l*nu*(I_r*beta_rh/(E_r + I_r + R_r + S_r) + beta_hh*(I1*eta + I2 + P*alpha)/(E_h + H + I1 + I2 + P + R_h + S_h + S_l))"
      ]
     },
     "execution_count": 19,
     "metadata": {},
     "output_type": "execute_result"
    }
   ],
   "source": [
    "p1 = tm.templates[1].rate_law\n",
    "p2 = tm.templates[5].rate_law\n",
    "case_expr = SympyExprStr(p1.args[0] + p2.args[0])\n",
    "observables = {\n",
    "    'cases_E': Observable(name='cases_E', expression=SympyExprStr(case_expr)),\n",
    "    'cases_I1': Observable(name='cases_I1', expression=SympyExprStr(sp.parse_expr('E_h*sigma_h'))),\n",
    "    'cases_I2': Observable(name='cases_I2', expression=SympyExprStr(sp.parse_expr('I1*theta')))\n",
    "\n",
    "}\n",
    "case_expr.args[0]"
   ]
  },
  {
   "cell_type": "code",
   "execution_count": 20,
   "id": "c39950c7",
   "metadata": {},
   "outputs": [],
   "source": [
    "tm.observables = observables"
   ]
  },
  {
   "cell_type": "code",
   "execution_count": 21,
   "id": "f503fcaa",
   "metadata": {},
   "outputs": [],
   "source": [
    "template_model_to_petrinet_json_file(tm, 'ModelA_base_petri.json')"
   ]
  },
  {
   "cell_type": "code",
   "execution_count": null,
   "id": "46343f8c",
   "metadata": {},
   "outputs": [],
   "source": [
    "tm.draw_jupyter()"
   ]
  },
  {
   "cell_type": "code",
   "execution_count": null,
   "id": "1ba06415",
   "metadata": {},
   "outputs": [],
   "source": [
    "from mira.modeling import Model\n",
    "from mira.modeling.ode import OdeModel, simulate_ode_model"
   ]
  },
  {
   "cell_type": "code",
   "execution_count": 24,
   "id": "1f37cc9f",
   "metadata": {},
   "outputs": [],
   "source": [
    "om = OdeModel(Model(tm), initialized=True)"
   ]
  },
  {
   "cell_type": "code",
   "execution_count": 25,
   "id": "90eb0139",
   "metadata": {},
   "outputs": [
    {
     "data": {
      "text/latex": [
       "$\\displaystyle \\left[\\begin{matrix}\\frac{d}{d t} S_{l} & = & - S_{l} \\mu_{h} - S_{l} \\nu \\left(\\frac{I_{r} \\beta_{rh}}{E_{r} + I_{r} + R_{r} + S_{r}} + \\frac{\\beta_{hh} \\left(I_{1} \\eta + I_{2} + P \\alpha\\right)}{E_{h} + H + I_{1} + I_{2} + P + R_{h} + S_{h} + S_{l}}\\right) + \\pi_{h} \\left(1 - \\rho\\right)\\\\\\frac{d}{d t} H & = & - H \\left(\\delta_{h} + \\mu_{h} + \\tau_{3}\\right) + I_{1} k_{1} + I_{2} k_{2}\\\\\\frac{d}{d t} P & = & E_{h} \\sigma_{h} - P \\left(\\mu_{h} + \\omega\\right)\\\\\\frac{d}{d t} E_{h} & = & - E_{h} \\left(\\mu_{h} + \\sigma_{h}\\right) + S_{h} \\left(\\frac{I_{r} \\beta_{rh}}{E_{r} + I_{r} + R_{r} + S_{r}} + \\frac{\\beta_{hh} \\left(I_{1} \\eta + I_{2} + P \\alpha\\right)}{E_{h} + H + I_{1} + I_{2} + P + R_{h} + S_{h} + S_{l}}\\right) + S_{l} \\nu \\left(\\frac{I_{r} \\beta_{rh}}{E_{r} + I_{r} + R_{r} + S_{r}} + \\frac{\\beta_{hh} \\left(I_{1} \\eta + I_{2} + P \\alpha\\right)}{E_{h} + H + I_{1} + I_{2} + P + R_{h} + S_{h} + S_{l}}\\right)\\\\\\frac{d}{d t} R_{h} & = & H \\tau_{3} + I_{1} \\tau_{1} + I_{2} \\tau_{2} - R_{h} \\mu_{h}\\\\\\frac{d}{d t} I_{r} & = & E_{r} \\sigma_{r} - I_{r} \\left(\\delta_{r} + \\mu_{r} + \\tau_{r}\\right)\\\\\\frac{d}{d t} I_{2} & = & I_{1} \\theta - I_{2} \\left(\\delta_{i} + k_{2} + \\mu_{h} + \\tau_{2}\\right)\\\\\\frac{d}{d t} R_{r} & = & I_{r} \\tau_{r} - R_{r} \\mu_{r}\\\\\\frac{d}{d t} I_{1} & = & - I_{1} \\left(k_{1} + \\mu_{h} + \\tau_{1} + \\theta\\right) + P \\omega\\\\\\frac{d}{d t} E_{r} & = & - E_{r} \\left(\\mu_{r} + \\sigma_{r}\\right) + \\frac{I_{r} S_{r} \\beta_{rr}}{E_{r} + I_{r} + R_{r} + S_{r}}\\\\\\frac{d}{d t} S_{h} & = & - S_{h} \\mu_{h} - S_{h} \\left(\\frac{I_{r} \\beta_{rh}}{E_{r} + I_{r} + R_{r} + S_{r}} + \\frac{\\beta_{hh} \\left(I_{1} \\eta + I_{2} + P \\alpha\\right)}{E_{h} + H + I_{1} + I_{2} + P + R_{h} + S_{h} + S_{l}}\\right) + \\pi_{h} \\rho\\\\\\frac{d}{d t} S_{r} & = & - \\frac{I_{r} S_{r} \\beta_{rr}}{E_{r} + I_{r} + R_{r} + S_{r}} - S_{r} \\mu_{r} + \\pi_{r}\\end{matrix}\\right]$"
      ],
      "text/plain": [
       "Matrix([\n",
       "[Derivative(S_l, t), =,                                                                                                                    -S_l*mu_h - S_l*nu*(I_r*beta_rh/(E_r + I_r + R_r + S_r) + beta_hh*(I1*eta + I2 + P*alpha)/(E_h + H + I1 + I2 + P + R_h + S_h + S_l)) + pi_h*(1 - rho)],\n",
       "[  Derivative(H, t), =,                                                                                                                                                                                                                               -H*(delta_h + mu_h + tau3) + I1*k1 + I2*k2],\n",
       "[  Derivative(P, t), =,                                                                                                                                                                                                                                           E_h*sigma_h - P*(mu_h + omega)],\n",
       "[Derivative(E_h, t), =, -E_h*(mu_h + sigma_h) + S_h*(I_r*beta_rh/(E_r + I_r + R_r + S_r) + beta_hh*(I1*eta + I2 + P*alpha)/(E_h + H + I1 + I2 + P + R_h + S_h + S_l)) + S_l*nu*(I_r*beta_rh/(E_r + I_r + R_r + S_r) + beta_hh*(I1*eta + I2 + P*alpha)/(E_h + H + I1 + I2 + P + R_h + S_h + S_l))],\n",
       "[Derivative(R_h, t), =,                                                                                                                                                                                                                                    H*tau3 + I1*tau1 + I2*tau2 - R_h*mu_h],\n",
       "[Derivative(I_r, t), =,                                                                                                                                                                                                                               E_r*sigma_r - I_r*(delta_r + mu_r + tau_r)],\n",
       "[ Derivative(I2, t), =,                                                                                                                                                                                                                               I1*theta - I2*(delta_i + k2 + mu_h + tau2)],\n",
       "[Derivative(R_r, t), =,                                                                                                                                                                                                                                                     I_r*tau_r - R_r*mu_r],\n",
       "[ Derivative(I1, t), =,                                                                                                                                                                                                                                 -I1*(k1 + mu_h + tau1 + theta) + P*omega],\n",
       "[Derivative(E_r, t), =,                                                                                                                                                                                                          -E_r*(mu_r + sigma_r) + I_r*S_r*beta_rr/(E_r + I_r + R_r + S_r)],\n",
       "[Derivative(S_h, t), =,                                                                                                                             -S_h*mu_h - S_h*(I_r*beta_rh/(E_r + I_r + R_r + S_r) + beta_hh*(I1*eta + I2 + P*alpha)/(E_h + H + I1 + I2 + P + R_h + S_h + S_l)) + pi_h*rho],\n",
       "[Derivative(S_r, t), =,                                                                                                                                                                                                               -I_r*S_r*beta_rr/(E_r + I_r + R_r + S_r) - S_r*mu_r + pi_r]])"
      ]
     },
     "execution_count": 25,
     "metadata": {},
     "output_type": "execute_result"
    }
   ],
   "source": [
    "om.get_interpretable_kinetics()"
   ]
  },
  {
   "cell_type": "code",
   "execution_count": 26,
   "id": "b580a6e0",
   "metadata": {},
   "outputs": [
    {
     "data": {
      "text/plain": [
       "{('S_l',\n",
       "  ('identity', 'ido:0000514'),\n",
       "  ('severity', 'low'),\n",
       "  ('species', 'ncbitaxon:9606')): 0,\n",
       " ('H',\n",
       "  ('identity', 'ido:0000511'),\n",
       "  ('hospitalization', 'ncit:C25179'),\n",
       "  ('species', 'ncbitaxon:9606')): 1,\n",
       " ('P',\n",
       "  ('identity', 'ido:0000511'),\n",
       "  ('species', 'ncbitaxon:9606'),\n",
       "  ('stage', 'predromal')): 2,\n",
       " ('E_h', ('identity', 'apollosv:00000154'), ('species', 'ncbitaxon:9606')): 3,\n",
       " ('R_h', ('identity', 'ido:0000592'), ('species', 'ncbitaxon:9606')): 4,\n",
       " ('I_r', ('identity', 'ido:0000511'), ('species', 'ncbitaxon:9989')): 5,\n",
       " ('I2',\n",
       "  ('identity', 'ido:0000511'),\n",
       "  ('species', 'ncbitaxon:9606'),\n",
       "  ('stage', 'severe')): 6,\n",
       " ('R_r', ('identity', 'ido:0000592'), ('species', 'ncbitaxon:9989')): 7,\n",
       " ('I1',\n",
       "  ('identity', 'ido:0000511'),\n",
       "  ('species', 'ncbitaxon:9606'),\n",
       "  ('stage', 'mild')): 8,\n",
       " ('E_r', ('identity', 'apollosv:00000154'), ('species', 'ncbitaxon:9989')): 9,\n",
       " ('S_h',\n",
       "  ('identity', 'ido:0000514'),\n",
       "  ('severity', 'high'),\n",
       "  ('species', 'ncbitaxon:9606')): 10,\n",
       " ('S_r', ('identity', 'ido:0000514'), ('species', 'ncbitaxon:9989')): 11}"
      ]
     },
     "execution_count": 26,
     "metadata": {},
     "output_type": "execute_result"
    }
   ],
   "source": [
    "om.vmap"
   ]
  },
  {
   "cell_type": "code",
   "execution_count": 49,
   "id": "cb220472",
   "metadata": {},
   "outputs": [],
   "source": [
    "import numpy as np\n",
    "import matplotlib.pyplot as plt\n",
    "\n",
    "times = np.linspace(0, 35*7, 100)\n",
    "res = simulate_ode_model(om, times, with_observables=True)"
   ]
  },
  {
   "cell_type": "code",
   "execution_count": 50,
   "id": "13a7e021",
   "metadata": {},
   "outputs": [
    {
     "data": {
      "text/plain": [
       "array([ 530.92557334,  833.08634062, 1040.03245939, 1180.60097288,\n",
       "       1275.04738225, 1337.58528065, 1378.17639723, 1403.79169555,\n",
       "       1419.29951951, 1428.09098609, 1432.52023152, 1434.21419308,\n",
       "       1434.29065252, 1433.51120033, 1432.38956256, 1431.26609064,\n",
       "       1430.36043327, 1429.81249273, 1429.70439386, 1430.07792607,\n",
       "       1430.95247055, 1432.3290516 , 1434.19805456, 1436.54313646,\n",
       "       1439.34426381, 1442.57976625, 1446.22730219, 1450.26478878,\n",
       "       1454.67097346, 1459.4256944 , 1464.51008141, 1469.90657854,\n",
       "       1475.59901371, 1481.5725516 , 1487.81359631, 1494.30971995,\n",
       "       1501.04962123, 1508.02305085, 1515.22068113, 1522.63406592,\n",
       "       1530.25555527, 1538.07823183, 1546.09583819, 1554.30272602,\n",
       "       1562.69379997, 1571.26447913, 1580.01059388, 1588.92840052,\n",
       "       1598.01455816, 1607.26606638, 1616.68024746, 1626.25467782,\n",
       "       1635.98716608, 1645.87579473, 1655.91889454, 1666.11494009,\n",
       "       1676.46254761, 1686.96059198, 1697.60804946, 1708.40402852,\n",
       "       1719.34776549, 1730.43860246, 1741.67599283, 1753.0594846 ,\n",
       "       1764.58870561, 1776.26337243, 1788.08327166, 1800.04825973,\n",
       "       1812.15825683, 1824.41323229, 1836.81322284, 1849.35831027,\n",
       "       1862.04861422, 1874.8843119 , 1887.86561449, 1900.9927635 ,\n",
       "       1914.26605044, 1927.68579211, 1941.25233049, 1954.96605175,\n",
       "       1968.82736059, 1982.83668347, 1996.99448654, 2011.30124915,\n",
       "       2025.75747027, 2040.36368503, 2055.12043749, 2070.02829017,\n",
       "       2085.08783889, 2100.29968498, 2115.66444778, 2131.18277747,\n",
       "       2146.85532705, 2162.68276763, 2178.66579897, 2194.80512146,\n",
       "       2211.10145417, 2227.55554272, 2244.16813172, 2260.93998525])"
      ]
     },
     "execution_count": 50,
     "metadata": {},
     "output_type": "execute_result"
    }
   ],
   "source": [
    "res[:, -3]"
   ]
  },
  {
   "cell_type": "code",
   "execution_count": 53,
   "id": "6fb5c438",
   "metadata": {},
   "outputs": [
    {
     "data": {
      "text/plain": [
       "[<matplotlib.lines.Line2D at 0x137ea6710>]"
      ]
     },
     "execution_count": 53,
     "metadata": {},
     "output_type": "execute_result"
    },
    {
     "data": {
      "image/png": "[encoded data removed]",
      "text/plain": [
       "<Figure size 200x300 with 1 Axes>"
      ]
     },
     "metadata": {},
     "output_type": "display_data"
    }
   ],
   "source": [
    "plt.figure(figsize=(2, 3))\n",
    "plt.plot(times, res[:, 6])"
   ]
  },
  {
   "cell_type": "code",
   "execution_count": 41,
   "id": "5da846e6",
   "metadata": {},
   "outputs": [
    {
     "data": {
      "text/plain": [
       "{'cases_E': 0, 'cases_I1': 1, 'cases_I2': 2}"
      ]
     },
     "execution_count": 41,
     "metadata": {},
     "output_type": "execute_result"
    }
   ],
   "source": [
    "om.observable_map"
   ]
  },
  {
   "cell_type": "code",
   "execution_count": 31,
   "id": "a5ec4928",
   "metadata": {},
   "outputs": [
    {
     "data": {
      "text/plain": [
       "{'cases_E': Observable(name='cases_E', display_name=None, description=None, identifiers={}, context={}, units=None, expression=SympyExprStr(S_h*(I_r*beta_rh/(E_r + I_r + R_r + S_r) + beta_hh*(I1*eta + I2 + P*alpha)/(E_h + H + I1 + I2 + P + R_h + S_h + S_l)) + S_l*nu*(I_r*beta_rh/(E_r + I_r + R_r + S_r) + beta_hh*(I1*eta + I2 + P*alpha)/(E_h + H + I1 + I2 + P + R_h + S_h + S_l)))),\n",
       " 'cases_I1': Observable(name='cases_I1', display_name=None, description=None, identifiers={}, context={}, units=None, expression=E_h*sigma_h),\n",
       " 'cases_I2': Observable(name='cases_I2', display_name=None, description=None, identifiers={}, context={}, units=None, expression=I1*theta)}"
      ]
     },
     "execution_count": 31,
     "metadata": {},
     "output_type": "execute_result"
    }
   ],
   "source": [
    "tm.observables"
   ]
  },
  {
   "cell_type": "code",
   "execution_count": 32,
   "id": "3fd25d97",
   "metadata": {},
   "outputs": [
    {
     "data": {
      "text/plain": [
       "{'cases_E': <mira.modeling.ModelObservable at 0x1370b5510>,\n",
       " 'cases_I1': <mira.modeling.ModelObservable at 0x116049f00>,\n",
       " 'cases_I2': <mira.modeling.ModelObservable at 0x1378feb60>}"
      ]
     },
     "execution_count": 32,
     "metadata": {},
     "output_type": "execute_result"
    }
   ],
   "source": [
    "Model(tm).observables"
   ]
  },
  {
   "cell_type": "code",
   "execution_count": null,
   "id": "52e89806",
   "metadata": {},
   "outputs": [],
   "source": []
  }
 ],
 "metadata": {
  "kernelspec": {
   "display_name": "Python 3 (ipykernel)",
   "language": "python",
   "name": "python3"
  },
  "language_info": {
   "codemirror_mode": {
    "name": "ipython",
    "version": 3
   },
   "file_extension": ".py",
   "mimetype": "text/x-python",
   "name": "python",
   "nbconvert_exporter": "python",
   "pygments_lexer": "ipython3",
   "version": "3.10.14"
  }
 },
 "nbformat": 4,
 "nbformat_minor": 5
}
